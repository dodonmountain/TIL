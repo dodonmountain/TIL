{
 "cells": [
  {
   "cell_type": "code",
   "execution_count": null,
   "metadata": {},
   "outputs": [],
   "source": [
    "from IPython.display import IFrame"
   ]
  },
  {
   "cell_type": "markdown",
   "metadata": {},
   "source": [
    "# OOP with python\n",
    "\n",
    "## 시작하기전에\n",
    "\n",
    "<wikipedia - 객체지향 프로그래밍> \n",
    ">\n",
    "> 객체 지향 프로그래밍(영어: Object-Oriented Programming, OOP)은 컴퓨터 프로그래밍의 패러다임의 하나이다. 객체 지향 프로그래밍은 컴퓨터 프로그램을 명령어의 목록으로 보는 시각에서 벗어나 여러 개의 독립된 단위, 즉 \"객체\"들의 모임으로 파악하고자 하는 것이다. 각각의 객체는 메시지를 주고받고, 데이터를 처리할 수 있다.\n",
    ">\n",
    "> 명령형 프로그래밍인 절차지향 프로그래밍에서 발전된 형태를 나타내며, 기본 구성요소는 다음과 같다.\n",
    "\n",
    "* 클래스(Class) \n",
    "    - 같은 종류(또는 문제 해결을 위한)의 집단에 속하는 **속성(attribute)**과 **행위(behavior)**를 정의한 것으로 객체지향 프로그램의 기본적인 사용자 정의 데이터형(user define data type)이라고 할 수 있다\n",
    "    - 클래스는 프로그래머가 아니지만 해결해야 할 문제가 속하는 영역에 종사하는 사람이라면 사용할 수 있고, 다른 클래스 또는 외부 요소와 독립적으로 디자인하여야 한다.\n",
    "\n",
    "\n",
    "* 인스턴스(instance) \n",
    "    - 클래스의 인스턴스/객체(실제로 메모리상에 할당된 것)이다. \n",
    "    - 객체는 자신 고유의 속성(attribute)을 가지며 클래스에서 정의한 행위(behavior)를 수행할 수 있다. \n",
    "    - 객체의 행위는 클래스에 정의된 행위에 대한 정의(메서드)를 공유함으로써 메모리를 경제적으로 사용한다.\n",
    "\n",
    "\n",
    "* 속성(attribute) \n",
    "    - 클래스/인스턴스 가 가지고 있는 속성(값)\n",
    "\n",
    "\n",
    "* 메서드(Method) \n",
    "    - 클래스/인스턴스 가 할 수 있는 행위(함수)"
   ]
  },
  {
   "cell_type": "markdown",
   "metadata": {},
   "source": [
    "\n",
    "\n",
    "| class / type | instance                 | attributes       | methods                                |\n",
    "| ------------ | ------------------------ | ---------------- | -------------------------------------- |\n",
    "| `str`        | `''`, `'hello'`, `'123'` |       _          | `.capitalize()`, `.join()`, `.split()` |\n",
    "| `list`       | `[]`, `['a', 'b']`       |       _          | `.append()`, `reverse()`, `sort()`     |\n",
    "| `dict`       | `{}`, `{'key': 'value'}` |       _          | `.keys()`, `.values()`, `.items().`    |\n",
    "| `int`        | `0`, `1`, `2`            | `.real`, `.imag` |                                        |"
   ]
  },
  {
   "cell_type": "code",
   "execution_count": null,
   "metadata": {},
   "outputs": [],
   "source": [
    "# 복소수를 하나 만들어보고, 타입을 출력해봅시다."
   ]
  },
  {
   "cell_type": "markdown",
   "metadata": {},
   "source": [
    "> 위에서 말한 속성(값)과 행위(메서드)를 명확히 구분해 봅시다\n",
    "\n",
    "* `complex` class의 객체들의 속성들을 확인해 봅시다."
   ]
  },
  {
   "cell_type": "code",
   "execution_count": null,
   "metadata": {},
   "outputs": [],
   "source": [
    "# 허수부랑 실수부를 함께 출력해봅시다. complex 객체의 실수 속성과 허수 속성이라고도 표현 가능합니다.\n",
    "number = 3 + 4j\n",
    "print(type(number))\n",
    "print(number.real) # attribute value for Instance <list>\n",
    "print(number.imag)"
   ]
  },
  {
   "cell_type": "markdown",
   "metadata": {},
   "source": [
    "* `list` class의 객체들이 할 수 있는 행위(메서드)들을 확인해 봅시다."
   ]
  },
  {
   "cell_type": "code",
   "execution_count": null,
   "metadata": {},
   "outputs": [],
   "source": [
    "# 리스트를 하나 만들고 정렬해봅시다. list 객체의 메서드 실행이라고도 표현 가능합니다.\n",
    "my_list = [6, 2, 3, 4] # Instance of class <list>\n",
    "print(type(my_list))\n",
    "my_list.sort() # execute method of class <list>\n",
    "print(my_list)"
   ]
  },
  {
   "cell_type": "code",
   "execution_count": null,
   "metadata": {},
   "outputs": [],
   "source": [
    "# list class 의 객체들이 할 수 있는 것들을 알아봅시다. (list 객체가 가지고 있는 모든 속성과 메서드를 보여줍니다.)\n",
    "dir(list)"
   ]
  },
  {
   "cell_type": "code",
   "execution_count": null,
   "metadata": {},
   "outputs": [],
   "source": [
    "print(dir(complex))"
   ]
  },
  {
   "cell_type": "markdown",
   "metadata": {},
   "source": [
    "## 실습 (without OOP)\n",
    "\n",
    "> 프로그래밍으로, 내 지갑(딕셔너리)에 물건과 갯수를 추가 해봅시다."
   ]
  },
  {
   "cell_type": "code",
   "execution_count": null,
   "metadata": {},
   "outputs": [],
   "source": [
    "# 아래에 자유롭게 코드를 작성해보세요.\n",
    "def in_my_pocket(wallet, stuff, count):\n",
    "    wallet[stuff] = count\n",
    "    return wallet\n",
    "tak_wallet = in_my_pocket(tak_wallet, '카드', 5)\n",
    "tak_wallet"
   ]
  },
  {
   "cell_type": "code",
   "execution_count": null,
   "metadata": {},
   "outputs": [],
   "source": [
    "def greeting(name):\n",
    "    print(f'{name} : hello')"
   ]
  },
  {
   "cell_type": "code",
   "execution_count": null,
   "metadata": {},
   "outputs": [],
   "source": [
    "greeting('용흠')"
   ]
  },
  {
   "cell_type": "code",
   "execution_count": null,
   "metadata": {},
   "outputs": [],
   "source": [
    "class Person:\n",
    "    def greeting(self):\n",
    "        print(f'{self.name}: hello')"
   ]
  },
  {
   "cell_type": "code",
   "execution_count": null,
   "metadata": {},
   "outputs": [],
   "source": [
    "용흠 = Person()\n",
    "용흠.name = '용흠'"
   ]
  },
  {
   "cell_type": "code",
   "execution_count": null,
   "metadata": {},
   "outputs": [],
   "source": [
    "용흠.greeting()"
   ]
  },
  {
   "cell_type": "code",
   "execution_count": null,
   "metadata": {},
   "outputs": [],
   "source": [
    "지수 = Person()\n",
    "지수.name = '지수'\n",
    "지수.greeting()"
   ]
  },
  {
   "cell_type": "markdown",
   "metadata": {},
   "source": [
    "# 클래스 및 인스턴스"
   ]
  },
  {
   "cell_type": "markdown",
   "metadata": {},
   "source": [
    "## 클래스 정의하기 (클래스 객체 생성하기)\n",
    "\n",
    "```python\n",
    "class ClassName:\n",
    "    \n",
    "```\n",
    "\n",
    "* 선언과 동시에 클래스 객체가 생성됨.\n",
    "\n",
    "* 또한, 선언된 공간은 지역 스코프로 사용된다.\n",
    "\n",
    "* 정의된 어트리뷰트 중 변수는 멤버 변수로 불리운다.\n",
    "\n",
    "* 정의된 함수(`def`)는 메서드로 불리운다."
   ]
  },
  {
   "cell_type": "code",
   "execution_count": null,
   "metadata": {},
   "outputs": [],
   "source": [
    "# Class를 만들어봅시다.\n",
    "class Person:\n",
    "    name = '홍길동' # Member Variable\n",
    "    def greeting(self): # Method\n",
    "        return f'{self.name} : 방가방가~'"
   ]
  },
  {
   "cell_type": "code",
   "execution_count": null,
   "metadata": {},
   "outputs": [],
   "source": [
    "print(type(Person))"
   ]
  },
  {
   "cell_type": "markdown",
   "metadata": {},
   "source": [
    "## 인스턴스 생성하기\n",
    "\n",
    "* 인스턴스 객체는 `ClassName()`을 호출함으로써 선언된다.\n",
    "\n",
    "* 인스턴스 객체와 클래스 객체는 서로 다른 이름 공간을 가지고 있다.\n",
    "\n",
    "* **인스턴스 => 클래스 => 전역 순으로 탐색을 한다.**"
   ]
  },
  {
   "cell_type": "code",
   "execution_count": null,
   "metadata": {},
   "outputs": [],
   "source": [
    "# 위에서 만든 클래스의 인스턴스를 만들어 봅시다.\n",
    "iu = Person()"
   ]
  },
  {
   "cell_type": "code",
   "execution_count": null,
   "metadata": {},
   "outputs": [],
   "source": [
    "iu"
   ]
  },
  {
   "cell_type": "code",
   "execution_count": null,
   "metadata": {},
   "outputs": [],
   "source": [
    "type(iu)"
   ]
  },
  {
   "cell_type": "code",
   "execution_count": null,
   "metadata": {},
   "outputs": [],
   "source": [
    "isinstance(iu, Person)"
   ]
  },
  {
   "cell_type": "code",
   "execution_count": null,
   "metadata": {},
   "outputs": [],
   "source": [
    "isinstance(3, int)"
   ]
  },
  {
   "cell_type": "code",
   "execution_count": null,
   "metadata": {},
   "outputs": [],
   "source": [
    "iu.name = '이지은'"
   ]
  },
  {
   "cell_type": "code",
   "execution_count": null,
   "metadata": {},
   "outputs": [],
   "source": [
    "iu.name"
   ]
  },
  {
   "cell_type": "markdown",
   "metadata": {},
   "source": [
    "### `repr` , `str` - 파이썬 출력의 비밀\n",
    "* `repr` : 객체의 모습\n",
    "* `str` : print() 했을 때 보여지는 값\n",
    "\n",
    "* `str`만 정의가 되어 있는 경우에는, `print()` 했을 때 값만 바뀜.\n",
    "* `repr`만 정의가 되어 있는 경우에는, 객체의 모습과 `print()` 모습 모두 바뀜 "
   ]
  },
  {
   "cell_type": "code",
   "execution_count": null,
   "metadata": {},
   "outputs": [],
   "source": [
    "class Person:\n",
    "    name = '홍길동' # Member Variable\n",
    "    def greeting(self): # Method\n",
    "        return f'{self.name} : 방가방가~'\n",
    "    def __str__(self):\n",
    "        return f'사람입니다: {self.name}'"
   ]
  },
  {
   "cell_type": "code",
   "execution_count": null,
   "metadata": {},
   "outputs": [],
   "source": [
    "iu = Person()\n",
    "iu.name = '이지은'\n",
    "print(iu)\n",
    "iu"
   ]
  },
  {
   "cell_type": "code",
   "execution_count": null,
   "metadata": {},
   "outputs": [],
   "source": [
    "class Person:\n",
    "    name = '홍길동' # Member Variable\n",
    "    def greeting(self): # Method\n",
    "        return f'{self.name} : 방가방가~'\n",
    "    def __repr__(self):\n",
    "        return f'사람입니다: {self.name}'\n",
    "    def __str__(self):\n",
    "        return 'str'"
   ]
  },
  {
   "cell_type": "code",
   "execution_count": null,
   "metadata": {},
   "outputs": [],
   "source": [
    "iu = Person()\n",
    "iu.name = '이지은'\n",
    "print(iu)\n",
    "iu"
   ]
  },
  {
   "cell_type": "markdown",
   "metadata": {},
   "source": [
    "## 용어 정리\n",
    "\n",
    "```python\n",
    "class Person:                     #=> 클래스 정의(선언) : 클래스 객체 생성\n",
    "    name = 'unknown'              #=> 멤버 변수(data attribute)\n",
    "    def greeting(self):           #=> 멤버 메서드(메서드)\n",
    "        return f'{self.name}' \n",
    "```\n",
    "    \n",
    "    \n",
    "```python\n",
    "richard = Person()      # 인스턴스 객체 생성\n",
    "tim = Person()          # 인스턴스 객체 생성\n",
    "tim.name                # 데이터 어트리뷰트 호출\n",
    "tim.greeting()          # 메서드 호출\n",
    "```"
   ]
  },
  {
   "cell_type": "code",
   "execution_count": null,
   "metadata": {},
   "outputs": [],
   "source": [
    "# Person을 만들어봅시다."
   ]
  },
  {
   "cell_type": "code",
   "execution_count": null,
   "metadata": {},
   "outputs": [],
   "source": [
    "# 새로운 사람(인스턴스)를 만들어 봅시다."
   ]
  },
  {
   "cell_type": "code",
   "execution_count": null,
   "metadata": {},
   "outputs": [],
   "source": [
    "# 클래스와 인스턴스간의 관계를 확인해 봅시다."
   ]
  },
  {
   "cell_type": "markdown",
   "metadata": {},
   "source": [
    "##  `self` : 인스턴스 객체 자기자신\n",
    "\n",
    "* C++ 혹은 자바에서의 this 키워드와 동일함. \n",
    "\n",
    "* 특별한 상황을 제외하고는 **무조건 메서드에서 `self`를 첫번째 인자로 설정한다.**\n",
    "\n",
    "* 메서드는 인스턴스 객체가 함수의 첫번째 인자로 전달되도록 되어있다."
   ]
  },
  {
   "cell_type": "code",
   "execution_count": null,
   "metadata": {},
   "outputs": [],
   "source": [
    "# p1 의 이름을 자기 이름으로 바꾸고 다시 인사해 봅시다.\n",
    "iu = Person()\n",
    "iu.name = '아이유'\n",
    "iu.greeting()"
   ]
  },
  {
   "cell_type": "code",
   "execution_count": null,
   "metadata": {},
   "outputs": [],
   "source": [
    "# 다르게 부를 수도 있습니다.\n",
    "Person.greeting(iu)"
   ]
  },
  {
   "cell_type": "code",
   "execution_count": null,
   "metadata": {},
   "outputs": [],
   "source": [
    "a = [1, 2, 3]\n",
    "a"
   ]
  },
  {
   "cell_type": "code",
   "execution_count": null,
   "metadata": {},
   "outputs": [],
   "source": [
    "print(a)"
   ]
  },
  {
   "cell_type": "code",
   "execution_count": null,
   "metadata": {},
   "outputs": [],
   "source": [
    "a = reversed([1, 2, 3])\n",
    "print(a)"
   ]
  },
  {
   "cell_type": "markdown",
   "metadata": {},
   "source": [
    "## 클래스-인스턴스간의 이름공간\n",
    "\n",
    "* 클래스를 정의하면, 클래스 객체가 생성되고 해당되는 이름 공간이 생성된다. \n",
    "\n",
    "* 인스턴스를 만들게 되면, 인스턴스 객체가 생성되고 해당되는 이름 공간이 생성된다. \n",
    "\n",
    "* 인스턴스의 어트리뷰트가 변경되면, 변경된 데이터를 인스턴스 객체 이름 공간에 저장한다.\n",
    "\n",
    "* 즉, 인스턴스에서 특정한 어트리뷰트에 접근하게 되면 인스턴스 => 클래스 순으로 탐색을 한다."
   ]
  },
  {
   "cell_type": "code",
   "execution_count": null,
   "metadata": {},
   "outputs": [],
   "source": [
    "# self가 없다면?\n",
    "class Person:\n",
    "    name = '홍길동' \n",
    "    \n",
    "    def greeting(self):\n",
    "        return f'{self.name}: Hi!'"
   ]
  },
  {
   "cell_type": "code",
   "execution_count": null,
   "metadata": {},
   "outputs": [],
   "source": [
    "# 아래에서 확인해 봅시다.\n",
    "iu = Person()\n",
    "iu.greeting()\n",
    "# NameError 발생!"
   ]
  },
  {
   "cell_type": "code",
   "execution_count": null,
   "metadata": {},
   "outputs": [],
   "source": [
    "# 인스턴스 메서드는 반드시 self가 있어야 합니다."
   ]
  },
  {
   "cell_type": "code",
   "execution_count": null,
   "metadata": {},
   "outputs": [],
   "source": [
    "# 아래에서 확인해 봅시다.\n",
    "iu.name = '아이유'\n",
    "iu.greeting()"
   ]
  },
  {
   "cell_type": "code",
   "execution_count": null,
   "metadata": {},
   "outputs": [],
   "source": [
    "# 아래에서 p2 객체에게 이름을 지어 줍시다."
   ]
  },
  {
   "cell_type": "code",
   "execution_count": null,
   "metadata": {},
   "outputs": [],
   "source": [
    "# python tutor 를 통해 확인해 봅시다.\n",
    "IFrame('http://bit.do/oop_instro_00', width='100%', height='500px')"
   ]
  },
  {
   "cell_type": "markdown",
   "metadata": {},
   "source": [
    "## 생성자 / 소멸자\n",
    "\n",
    "* 생성자는 인스턴스 객체가 생성될 때 호출되는 함수이며, 소멸자는 객체가 소멸되는 과정에서 호출되는 함수입니다.\n",
    "\n",
    "```python\n",
    "def __init__(self):\n",
    "    print('생성될 때 자동으로 호출되는 메서드입니다.')\n",
    "    \n",
    "def __del__(self):\n",
    "    print('소멸될 때 자동으로 호출되는 메서드입니다.')\n",
    "```\n",
    "\n",
    "```\n",
    "__someting__\n",
    "```\n",
    "\n",
    "위의 형식처럼 양쪽에 언더스코어가 있는 메서드를 `스페셜 메서드` 혹은 `매직 메서드`라고 불립니다."
   ]
  },
  {
   "cell_type": "code",
   "execution_count": null,
   "metadata": {},
   "outputs": [],
   "source": [
    "# 생성자와 소멸자를 만들어봅시다.\n",
    "class Person:\n",
    "    def __init__(self):\n",
    "        print('응애~')\n",
    "    def __del__(self):\n",
    "        print('꿲....')"
   ]
  },
  {
   "cell_type": "code",
   "execution_count": null,
   "metadata": {},
   "outputs": [],
   "source": [
    "# 생성해 봅시다.\n",
    "jisoo = Person()"
   ]
  },
  {
   "cell_type": "code",
   "execution_count": null,
   "metadata": {},
   "outputs": [],
   "source": [
    "# 소멸시켜 봅시다.\n",
    "del jisoo"
   ]
  },
  {
   "cell_type": "code",
   "execution_count": null,
   "metadata": {},
   "outputs": [],
   "source": [
    "jisoo = Person()\n",
    "jisoo = 1"
   ]
  },
  {
   "cell_type": "code",
   "execution_count": null,
   "metadata": {},
   "outputs": [],
   "source": [
    "# 생성자 역시 메서드(함수)기 때문에 추가인자를 받을 수 있습니다.\n",
    "class Person:\n",
    "    population = 0\n",
    "    def __init__(self, name, age):\n",
    "        self.name = name # 인스턴스 변수\n",
    "        self.age = age # 인스턴스 변수 \n",
    "        Person.population += 1\n",
    "        print(f'응애~ 나는 {self.name}이야.')\n",
    "        \n",
    "    def __del__(self):\n",
    "        Person.population\n",
    "        print(f'{self.name}는 이제 사라진다..')"
   ]
  },
  {
   "cell_type": "code",
   "execution_count": null,
   "metadata": {},
   "outputs": [],
   "source": [
    "# 생성과 동시에 인스턴스 변수에 값을 할당합니다.\n",
    "ssafy = Person('김싸피')"
   ]
  },
  {
   "cell_type": "code",
   "execution_count": null,
   "metadata": {},
   "outputs": [],
   "source": [
    "ssafy.name"
   ]
  },
  {
   "cell_type": "code",
   "execution_count": null,
   "metadata": {},
   "outputs": [],
   "source": [
    "ssafy = Person('ssafy kim')"
   ]
  },
  {
   "cell_type": "code",
   "execution_count": null,
   "metadata": {},
   "outputs": [],
   "source": [
    "Person.population"
   ]
  },
  {
   "cell_type": "markdown",
   "metadata": {},
   "source": [
    "## MyList 만들기\n",
    "\n",
    "> 이제 배운 것을 활용하여 나만의 리스트 객체를 만들 수 있습니다. \n",
    ">\n",
    "> `class MyList:`\n",
    ">\n",
    "\n",
    "```\n",
    "* 클래스 변수\n",
    "data : 비어 있는 리스트\n",
    "\n",
    "* 메서드 \n",
    "append() : 값을 받아 data 에 추가합니다. 리턴 값은 없습니다.\n",
    "pop() : 마지막에 있는 값을 삭제하고, 해당 값을 리턴합니다.\n",
    "reverse() : 제자리에서 뒤집고 리턴 값은 없습니다.\n",
    "count(x) : x의 개수를 리턴합니다.\n",
    "clear() : 값을 모두 삭제합니다. 리턴값은 없습니다.\n",
    "\n",
    "__repr__() : ex) '내 리스트에는 [1, 2, 3] 이 담겨있다.'\n",
    "```"
   ]
  },
  {
   "cell_type": "code",
   "execution_count": null,
   "metadata": {},
   "outputs": [],
   "source": [
    "# 아래에 코드를 작성해주세요.\n",
    "class MyList: # camelcase가 국룰\n",
    "    \n",
    "    def __init__(self):\n",
    "        self.data = []\n",
    "    \n",
    "    def append(self, x):\n",
    "        self.data = self.data + [x]\n",
    "        return self.data\n",
    "    \n",
    "    def pop(self):\n",
    "        y = self.data[-1]\n",
    "        self.data = self.data[:-1]\n",
    "        return y    "
   ]
  },
  {
   "cell_type": "code",
   "execution_count": null,
   "metadata": {},
   "outputs": [],
   "source": [
    "a = MyList()"
   ]
  },
  {
   "cell_type": "code",
   "execution_count": null,
   "metadata": {},
   "outputs": [],
   "source": [
    "a.append(345345)"
   ]
  },
  {
   "cell_type": "code",
   "execution_count": null,
   "metadata": {},
   "outputs": [],
   "source": [
    "a.pop()"
   ]
  },
  {
   "cell_type": "code",
   "execution_count": null,
   "metadata": {},
   "outputs": [],
   "source": [
    "a.data"
   ]
  },
  {
   "cell_type": "markdown",
   "metadata": {},
   "source": [
    "## 실습 (종합)\n",
    "\n",
    ">\n",
    "> `Stack` 클래스를 간략하게 구현해봅시다.\n",
    "\n",
    "> [Stack](https://ko.wikipedia.org/wiki/%EC%8A%A4%ED%83%9D) : 스택은 LIFO(Last in First Out)으로 구조화된 자료구조를 뜻합니다.\n",
    "\n",
    "1. `empty()`: 스택이 비었다면 True을 주고, 그렇지 않다면 False가 된다.\n",
    "\n",
    "2. `top()`: 스택의 가장 마지막 데이터를 넘겨준다. 스택이 비었다면 None을 리턴한다.\n",
    "\n",
    "3. `pop()`: 스택의 가장 마지막 데이터의 값을 넘겨주고, 해당 데이터를 삭제한다. 스택이 비었다면 None을 리턴한다.\n",
    "\n",
    "4. `push()`: 스택의 가장 마지막 데이터 뒤에 값을 추가한다. 리턴 값은 없다.\n",
    "\n",
    "**다 작성했다면 __repr__ 을 통해 예쁘게 출력까지 해봅시다.**"
   ]
  },
  {
   "cell_type": "code",
   "execution_count": null,
   "metadata": {},
   "outputs": [],
   "source": [
    "# 아래에 코드를 작성해주세요."
   ]
  },
  {
   "cell_type": "markdown",
   "metadata": {},
   "source": [
    "## 포켓몬 구현하기\n",
    "\n",
    "> 피카츄를 클래스-인스턴스로 구현해 봅시다. 게임을 만든다면 아래와 같이 먼저 기획을 하고 코드로 구현하게 됩니다.\n",
    "우선 아래와 같이 구현해 보고, 추가로 본인이 원하는 대로 구현 및 수정해 봅시다.\n",
    "\n",
    "모든 피카츄는 다음과 같은 속성을 갖습니다.\n",
    "* `name`: 이름\n",
    "* `level`: 레벨\n",
    "    * 레벨은 시작할 때 모두 5 입니다.\n",
    "* `hp`: 체력\n",
    "    * 체력은 `level` * 20 입니다.\n",
    "* `exp`: 경험치\n",
    "    * 상대방을 쓰러뜨리면 상대방 `level` * 15 를 획득합니다.\n",
    "    * 경험치는 `level` * 100 이 되면, 레벨이 하나 올라가고 0부터 추가 됩니다. \n",
    "\n",
    "모든 피카츄는 다음과 같은 행동(메서드)을 할 수 있습니다.\n",
    "* `bark()`: 울기. `'pikachu'` 를 출력합니다.\n",
    "* `body_attack()`: 몸통박치기. 상대방의 hp 를 내 `level` * 5 만큼 차감합니다.\n",
    "* `thousond_volt()`: 십만볼트. 상대방의 hp 를 내 `level` * 7 만큼 차감합니다."
   ]
  },
  {
   "cell_type": "code",
   "execution_count": 6,
   "metadata": {},
   "outputs": [],
   "source": [
    "# 아래에 코드를 작성해주세요.\n",
    "import random\n",
    "\n",
    "class Pikachu:\n",
    "    \n",
    "    def __init__(self, name):\n",
    "        self.name = name\n",
    "        self.level = 5\n",
    "        self.hp = self.level*random.randint(15,20)\n",
    "        self.maxhp = self.hp\n",
    "        self.exp = 0\n",
    "        self.pp = 5\n",
    "    \n",
    "    def bark(self, enemy):\n",
    "        print(f'{self.name}은 {enemy.name}에게 울기를 사용했다.')\n",
    "        print('PIKA')\n",
    "        print('효과는 미미했다...')\n",
    "        print('■'*enemy.hp)\n",
    "        print('♥'*self.hp)\n",
    "    \n",
    "    def body_attack(self, enemy):\n",
    "        crit = random.randint(1,5)\n",
    "        if crit == 5:\n",
    "            enemy.hp -= self.level * 9\n",
    "            print('치명적 일격!\\n' f'{self.name}은 {enemy.name}에게 {self.level*9}의 피해, 효과는 굉장했다.')\n",
    "        elif crit == 1:\n",
    "            print(f'{enemy.name}는 재빠르게 회피했다.')\n",
    "        else:\n",
    "            enemy.hp -= random.randint(self.level*5, self.level*6)\n",
    "            print(f'{self.name}은 {enemy.name}에게 {random.randint(self.level*5, self.level*6)}의 피해를 입혔다.')\n",
    "            print('■'*enemy.hp)\n",
    "            print('♥'*self.hp)\n",
    "    \n",
    "    def t_volt(self, enemy):\n",
    "        crit = random.randint(1,6)\n",
    "        print('십만 볼트!')\n",
    "        if crit == 5:\n",
    "            enemy.hp -= self.level * 12\n",
    "            return f'{self.name}의 치명적 일격!!!!{self.level*12}의 피해'\n",
    "        elif crit == 1:\n",
    "            return '상대는 재빠르게 회피했다.'\n",
    "        else:\n",
    "            enemy.hp -= random.randint(self.level*7, self.level*8)\n",
    "            print(f'{random.randint(self.level*7, self.level*8)}의 피해를 입혔다.')\n",
    "        print('■'*enemy.hp)\n",
    "        print('♥'*self.hp)\n",
    "    \n",
    "    def run(self):\n",
    "        print('나는 모든걸 버리고 도망쳤다.')\n",
    "    \n",
    "    def tools(self):\n",
    "        print('도구가 존재하지 않는다')\n",
    "    \n",
    "    def swop(self):\n",
    "        print('가진 포켓몬은 피카츄 뿐이다.')"
   ]
  },
  {
   "cell_type": "code",
   "execution_count": 7,
   "metadata": {},
   "outputs": [
    {
     "name": "stdout",
     "output_type": "stream",
     "text": [
      "당신의 이름을 입력하세요나\n",
      "적의 이름을 입력하세요너\n",
      "*********TURN0\n",
      "행동을 선택하세요.\n",
      "1. 공격\t2. 도구\n",
      "3. Poke\t4. 도망\n",
      "1\n",
      "행동을 선택하세요.\n",
      "1. 울기\t2. 몸통박치기\n",
      "3. 십만볼트\n",
      "3\n",
      "십만 볼트!\n",
      "40의 피해를 입혔다.\n",
      "■■■■■■■■■■■■■■■■■■■■■■■■■■■■■■■■■■■■■■■■■■■■■■■■■\n",
      "♥♥♥♥♥♥♥♥♥♥♥♥♥♥♥♥♥♥♥♥♥♥♥♥♥♥♥♥♥♥♥♥♥♥♥♥♥♥♥♥♥♥♥♥♥♥♥♥♥♥♥♥♥♥♥♥♥♥♥♥♥♥♥♥♥♥♥♥♥♥♥♥♥♥♥♥♥♥♥♥♥♥♥♥♥\n",
      "*********TURN1\n",
      "너은 나에게 28의 피해를 입혔다.\n",
      "■■■■■■■■■■■■■■■■■■■■■■■■■■■■■■■■■■■■■■■■■■■■■■■■■■■■■■■■■■■■\n",
      "♥♥♥♥♥♥♥♥♥♥♥♥♥♥♥♥♥♥♥♥♥♥♥♥♥♥♥♥♥♥♥♥♥♥♥♥♥♥♥♥♥♥♥♥♥♥♥♥♥\n",
      "*********TURN2\n",
      "행동을 선택하세요.\n",
      "1. 공격\t2. 도구\n",
      "3. Poke\t4. 도망\n",
      "1\n",
      "행동을 선택하세요.\n",
      "1. 울기\t2. 몸통박치기\n",
      "3. 십만볼트\n",
      "3\n",
      "십만 볼트!\n",
      "36의 피해를 입혔다.\n",
      "■■■■■■■■■■■■■■\n",
      "♥♥♥♥♥♥♥♥♥♥♥♥♥♥♥♥♥♥♥♥♥♥♥♥♥♥♥♥♥♥♥♥♥♥♥♥♥♥♥♥♥♥♥♥♥♥♥♥♥♥♥♥♥♥♥♥♥♥♥♥\n",
      "*********TURN3\n",
      "너은 나에게 27의 피해를 입혔다.\n",
      "■■■■■■■■■■■■■■■■■■■■■■■■■■■■■■■■■\n",
      "♥♥♥♥♥♥♥♥♥♥♥♥♥♥\n",
      "*********TURN4\n",
      "행동을 선택하세요.\n",
      "1. 공격\t2. 도구\n",
      "3. Poke\t4. 도망\n",
      "1\n",
      "행동을 선택하세요.\n",
      "1. 울기\t2. 몸통박치기\n",
      "3. 십만볼트\n",
      "3\n",
      "십만 볼트!\n",
      "37의 피해를 입혔다.\n",
      "\n",
      "♥♥♥♥♥♥♥♥♥♥♥♥♥♥♥♥♥♥♥♥♥♥♥♥♥♥♥♥♥♥♥♥♥\n",
      "너은 기절했다!\n",
      "나은 75만큼 경험치를 획득했다.\n",
      "*********TURN5\n",
      "너은 나에게 28의 피해를 입혔다.\n",
      "■■■■■■■■■■■■■■■■■■■■■■■■■■■■■■■■■■■■■■■■■■■■■■■■■■■■■■■■■■■\n",
      "\n",
      "너은 기절했다!\n",
      "나은 75만큼 경험치를 획득했다.\n",
      "*********TURN6\n",
      "행동을 선택하세요.\n",
      "1. 공격\t2. 도구\n",
      "3. Poke\t4. 도망\n",
      "1\n",
      "행동을 선택하세요.\n",
      "1. 울기\t2. 몸통박치기\n",
      "3. 십만볼트\n",
      "3\n",
      "십만 볼트!\n",
      "40의 피해를 입혔다.\n",
      "\n",
      "♥♥♥♥♥♥♥♥♥♥♥♥♥♥♥♥♥♥♥♥♥♥♥♥♥♥♥♥♥♥♥♥♥♥♥♥♥♥♥♥♥♥♥♥♥♥♥♥♥♥♥♥♥♥♥♥♥♥♥♥♥♥♥♥♥♥♥♥♥♥♥♥♥♥♥♥♥♥♥♥♥♥♥♥♥\n",
      "너은 기절했다!\n",
      "나은 75만큼 경험치를 획득했다.\n",
      "*********TURN7\n",
      "너은 나에게 25의 피해를 입혔다.\n",
      "■■■■■■■■■■■■■■■■■■■■■■■■■■■■■■■■■■■■■■■■■■■■■■■■■■■■■■■■\n",
      "\n",
      "너은 기절했다!\n",
      "나은 75만큼 경험치를 획득했다.\n",
      "*********TURN8\n",
      "행동을 선택하세요.\n",
      "1. 공격\t2. 도구\n",
      "3. Poke\t4. 도망\n",
      "1\n",
      "행동을 선택하세요.\n",
      "1. 울기\t2. 몸통박치기\n",
      "3. 십만볼트\n",
      "3\n",
      "십만 볼트!\n",
      "너은 기절했다!\n",
      "나은 75만큼 경험치를 획득했다.\n",
      "*********TURN9\n",
      "너은 나에게 25의 피해를 입혔다.\n",
      "■■■■■■■■■■■■■■■■■■■■■■■■■■■■■■■■■■■■■■■■■■■■■■■■■■■■■■■■\n",
      "\n",
      "너은 기절했다!\n",
      "나은 75만큼 경험치를 획득했다.\n",
      "*********TURN10\n",
      "행동을 선택하세요.\n",
      "1. 공격\t2. 도구\n",
      "3. Poke\t4. 도망\n",
      "1\n",
      "행동을 선택하세요.\n",
      "1. 울기\t2. 몸통박치기\n",
      "3. 십만볼트\n",
      "3\n",
      "십만 볼트!\n",
      "너은 기절했다!\n",
      "나은 75만큼 경험치를 획득했다.\n",
      "*********TURN11\n",
      "치명적 일격!\n",
      "너은 나에게 45의 피해, 효과는 굉장했다.\n",
      "너은 기절했다!\n",
      "나은 75만큼 경험치를 획득했다.\n",
      "*********TURN12\n",
      "행동을 선택하세요.\n",
      "1. 공격\t2. 도구\n",
      "3. Poke\t4. 도망\n",
      "1\n",
      "행동을 선택하세요.\n",
      "1. 울기\t2. 몸통박치기\n",
      "3. 십만볼트\n",
      "3\n",
      "십만 볼트!\n",
      "35의 피해를 입혔다.\n",
      "\n",
      "♥♥♥♥♥♥♥♥♥♥♥♥♥♥♥♥♥♥♥♥♥♥♥♥♥♥♥♥♥♥♥♥♥♥♥♥♥♥♥♥♥♥♥♥♥♥♥♥♥♥♥♥♥♥♥♥♥♥♥♥♥♥♥♥♥♥♥♥♥♥♥♥♥♥♥♥♥♥♥♥♥♥♥♥♥\n",
      "너은 기절했다!\n",
      "나은 75만큼 경험치를 획득했다.\n",
      "*********TURN13\n",
      "나는 재빠르게 회피했다.\n",
      "너은 기절했다!\n",
      "나은 75만큼 경험치를 획득했다.\n",
      "*********TURN14\n",
      "행동을 선택하세요.\n",
      "1. 공격\t2. 도구\n",
      "3. Poke\t4. 도망\n",
      "1\n",
      "행동을 선택하세요.\n",
      "1. 울기\t2. 몸통박치기\n",
      "3. 십만볼트\n",
      "3\n",
      "십만 볼트!\n",
      "36의 피해를 입혔다.\n",
      "\n",
      "♥♥♥♥♥♥♥♥♥♥♥♥♥♥♥♥♥♥♥♥♥♥♥♥♥♥♥♥♥♥♥♥♥♥♥♥♥♥♥♥♥♥♥♥♥♥♥♥♥♥♥♥♥♥♥♥♥♥♥♥♥♥♥♥♥♥♥♥♥♥♥♥♥♥♥♥♥♥♥♥♥♥♥♥♥\n",
      "너은 기절했다!\n",
      "나은 75만큼 경험치를 획득했다.\n",
      "*********TURN15\n",
      "너은 나에게 26의 피해를 입혔다.\n",
      "■■■■■■■■■■■■■■■■■■■■■■■■■■■■■■■■■■■■■■■■■■■■■■■■■■■■■■■■■\n",
      "\n",
      "너은 기절했다!\n",
      "나은 75만큼 경험치를 획득했다.\n",
      "*********TURN16\n",
      "행동을 선택하세요.\n",
      "1. 공격\t2. 도구\n",
      "3. Poke\t4. 도망\n",
      "1\n",
      "행동을 선택하세요.\n",
      "1. 울기\t2. 몸통박치기\n",
      "3. 십만볼트\n",
      "3\n",
      "십만 볼트!\n",
      "너은 기절했다!\n",
      "나은 75만큼 경험치를 획득했다.\n",
      "*********TURN17\n",
      "너은 나에게 25의 피해를 입혔다.\n",
      "■■■■■■■■■■■■■■■■■■■■■■■■■■■■■■■■■■■■■■■■■■■■■■■■■■■■■■■■■\n",
      "\n",
      "너은 기절했다!\n",
      "나은 75만큼 경험치를 획득했다.\n",
      "*********TURN18\n",
      "행동을 선택하세요.\n",
      "1. 공격\t2. 도구\n",
      "3. Poke\t4. 도망\n",
      "1\n",
      "행동을 선택하세요.\n",
      "1. 울기\t2. 몸통박치기\n",
      "3. 십만볼트\n",
      "3\n",
      "십만 볼트!\n",
      "37의 피해를 입혔다.\n",
      "\n",
      "♥♥♥♥♥♥♥♥♥♥♥♥♥♥♥♥♥♥♥♥♥♥♥♥♥♥♥♥♥♥♥♥♥♥♥♥♥♥♥♥♥♥♥♥♥♥♥♥♥♥♥♥♥♥♥♥♥♥♥♥♥♥♥♥♥♥♥♥♥♥♥♥♥♥♥♥♥♥♥♥♥♥♥♥♥\n",
      "너은 기절했다!\n",
      "나은 75만큼 경험치를 획득했다.\n",
      "*********TURN19\n",
      "너은 나에게 26의 피해를 입혔다.\n",
      "■■■■■■■■■■■■■■■■■■■■■■■■■■■■■■■■■■■■■■■■■■■■■■■■■■■■■■■\n",
      "\n",
      "너은 기절했다!\n",
      "나은 75만큼 경험치를 획득했다.\n",
      "*********TURN20\n",
      "행동을 선택하세요.\n",
      "1. 공격\t2. 도구\n",
      "3. Poke\t4. 도망\n",
      "1\n",
      "행동을 선택하세요.\n",
      "1. 울기\t2. 몸통박치기\n",
      "3. 십만볼트\n",
      "3\n",
      "십만 볼트!\n",
      "36의 피해를 입혔다.\n",
      "\n",
      "♥♥♥♥♥♥♥♥♥♥♥♥♥♥♥♥♥♥♥♥♥♥♥♥♥♥♥♥♥♥♥♥♥♥♥♥♥♥♥♥♥♥♥♥♥♥♥♥♥♥♥♥♥♥♥♥♥♥♥♥♥♥♥♥♥♥♥♥♥♥♥♥♥♥♥♥♥♥♥♥♥♥♥♥♥\n",
      "너은 기절했다!\n",
      "나은 75만큼 경험치를 획득했다.\n",
      "*********TURN21\n",
      "너은 나에게 27의 피해를 입혔다.\n",
      "■■■■■■■■■■■■■■■■■■■■■■■■■■■■■■■■■■■■■■■■■■■■■■■■■■■■■■■■■■■\n",
      "\n",
      "너은 기절했다!\n",
      "나은 75만큼 경험치를 획득했다.\n",
      "*********TURN22\n",
      "행동을 선택하세요.\n",
      "1. 공격\t2. 도구\n",
      "3. Poke\t4. 도망\n",
      "1\n",
      "행동을 선택하세요.\n",
      "1. 울기\t2. 몸통박치기\n",
      "3. 십만볼트\n",
      "3\n",
      "십만 볼트!\n",
      "39의 피해를 입혔다.\n",
      "\n",
      "♥♥♥♥♥♥♥♥♥♥♥♥♥♥♥♥♥♥♥♥♥♥♥♥♥♥♥♥♥♥♥♥♥♥♥♥♥♥♥♥♥♥♥♥♥♥♥♥♥♥♥♥♥♥♥♥♥♥♥♥♥♥♥♥♥♥♥♥♥♥♥♥♥♥♥♥♥♥♥♥♥♥♥♥♥\n",
      "너은 기절했다!\n",
      "나은 75만큼 경험치를 획득했다.\n",
      "*********TURN23\n",
      "너은 나에게 30의 피해를 입혔다.\n",
      "■■■■■■■■■■■■■■■■■■■■■■■■■■■■■■■■■■■■■■■■■■■■■■■■■■■■■■■■\n",
      "\n",
      "너은 기절했다!\n",
      "나은 75만큼 경험치를 획득했다.\n",
      "*********TURN24\n",
      "행동을 선택하세요.\n",
      "1. 공격\t2. 도구\n",
      "3. Poke\t4. 도망\n",
      "1\n",
      "행동을 선택하세요.\n",
      "1. 울기\t2. 몸통박치기\n",
      "3. 십만볼트\n",
      "3\n",
      "십만 볼트!\n",
      "너은 기절했다!\n",
      "나은 75만큼 경험치를 획득했다.\n",
      "*********TURN25\n",
      "너은 나에게 25의 피해를 입혔다.\n",
      "■■■■■■■■■■■■■■■■■■■■■■■■■■■■■■■■■■■■■■■■■■■■■■■■■■■■■■■■■■■\n",
      "\n",
      "너은 기절했다!\n",
      "나은 75만큼 경험치를 획득했다.\n",
      "*********TURN26\n",
      "행동을 선택하세요.\n",
      "1. 공격\t2. 도구\n",
      "3. Poke\t4. 도망\n",
      "1\n",
      "행동을 선택하세요.\n",
      "1. 울기\t2. 몸통박치기\n",
      "3. 십만볼트\n",
      "3\n",
      "십만 볼트!\n",
      "너은 기절했다!\n",
      "나은 75만큼 경험치를 획득했다.\n",
      "*********TURN27\n",
      "나는 재빠르게 회피했다.\n",
      "너은 기절했다!\n",
      "나은 75만큼 경험치를 획득했다.\n",
      "*********TURN28\n",
      "행동을 선택하세요.\n",
      "1. 공격\t2. 도구\n",
      "3. Poke\t4. 도망\n",
      "1\n",
      "행동을 선택하세요.\n",
      "1. 울기\t2. 몸통박치기\n",
      "3. 십만볼트\n",
      "2\n",
      "치명적 일격!\n",
      "나은 너에게 45의 피해, 효과는 굉장했다.\n",
      "너은 기절했다!\n",
      "나은 75만큼 경험치를 획득했다.\n",
      "*********TURN29\n",
      "너은 나에게 27의 피해를 입혔다.\n",
      "■■■■■■■■■■■■■■■■■■■■■■■■■■■■■■■■■■■■■■■■■■■■■■■■■■■■■■■■■■■■\n",
      "\n",
      "너은 기절했다!\n",
      "나은 75만큼 경험치를 획득했다.\n",
      "*********TURN30\n",
      "행동을 선택하세요.\n",
      "1. 공격\t2. 도구\n",
      "3. Poke\t4. 도망\n",
      "1\n",
      "행동을 선택하세요.\n",
      "1. 울기\t2. 몸통박치기\n",
      "3. 십만볼트\n",
      "2\n",
      "치명적 일격!\n",
      "나은 너에게 45의 피해, 효과는 굉장했다.\n",
      "너은 기절했다!\n",
      "나은 75만큼 경험치를 획득했다.\n",
      "*********TURN31\n",
      "너은 나에게 30의 피해를 입혔다.\n",
      "■■■■■■■■■■■■■■■■■■■■■■■■■■■■■■■■■■■■■■■■■■■■■■■■■■■■■■■■■■■\n",
      "\n",
      "너은 기절했다!\n",
      "나은 75만큼 경험치를 획득했다.\n",
      "*********TURN32\n",
      "행동을 선택하세요.\n",
      "1. 공격\t2. 도구\n",
      "3. Poke\t4. 도망\n",
      "1\n",
      "행동을 선택하세요.\n",
      "1. 울기\t2. 몸통박치기\n",
      "3. 십만볼트\n",
      "2\n",
      "나은 너에게 30의 피해를 입혔다.\n",
      "\n",
      "♥♥♥♥♥♥♥♥♥♥♥♥♥♥♥♥♥♥♥♥♥♥♥♥♥♥♥♥♥♥♥♥♥♥♥♥♥♥♥♥♥♥♥♥♥♥♥♥♥♥♥♥♥♥♥♥♥♥♥♥♥♥♥♥♥♥♥♥♥♥♥♥♥♥♥♥♥♥♥♥♥♥♥♥♥\n",
      "너은 기절했다!\n",
      "나은 75만큼 경험치를 획득했다.\n",
      "*********TURN33\n",
      "너은 나에게 26의 피해를 입혔다.\n",
      "■■■■■■■■■■■■■■■■■■■■■■■■■■■■■■■■■■■■■■■■■■■■■■■■■■■■■■■■\n",
      "\n",
      "너은 기절했다!\n",
      "나은 75만큼 경험치를 획득했다.\n",
      "*********TURN34\n",
      "행동을 선택하세요.\n",
      "1. 공격\t2. 도구\n",
      "3. Poke\t4. 도망\n",
      "\n"
     ]
    },
    {
     "ename": "ValueError",
     "evalue": "invalid literal for int() with base 10: ''",
     "output_type": "error",
     "traceback": [
      "\u001b[1;31m---------------------------------------------------------------------------\u001b[0m",
      "\u001b[1;31mValueError\u001b[0m                                Traceback (most recent call last)",
      "\u001b[1;32m<ipython-input-7-be8adb70d856>\u001b[0m in \u001b[0;36m<module>\u001b[1;34m\u001b[0m\n\u001b[0;32m      7\u001b[0m     \u001b[0mprint\u001b[0m\u001b[1;33m(\u001b[0m\u001b[1;34mf'*********TURN{turn}'\u001b[0m\u001b[1;33m)\u001b[0m\u001b[1;33m\u001b[0m\u001b[1;33m\u001b[0m\u001b[0m\n\u001b[0;32m      8\u001b[0m     \u001b[1;32mif\u001b[0m \u001b[0mturn\u001b[0m \u001b[1;33m%\u001b[0m \u001b[1;36m2\u001b[0m \u001b[1;33m==\u001b[0m \u001b[1;36m0\u001b[0m\u001b[1;33m:\u001b[0m\u001b[1;33m\u001b[0m\u001b[1;33m\u001b[0m\u001b[0m\n\u001b[1;32m----> 9\u001b[1;33m         \u001b[0mselect\u001b[0m \u001b[1;33m=\u001b[0m \u001b[0mint\u001b[0m\u001b[1;33m(\u001b[0m\u001b[0minput\u001b[0m\u001b[1;33m(\u001b[0m\u001b[1;34m'행동을 선택하세요.\\n1. 공격\\t2. 도구\\n3. Poke\\t4. 도망\\n'\u001b[0m\u001b[1;33m)\u001b[0m\u001b[1;33m)\u001b[0m\u001b[1;33m\u001b[0m\u001b[1;33m\u001b[0m\u001b[0m\n\u001b[0m\u001b[0;32m     10\u001b[0m         \u001b[1;32mif\u001b[0m \u001b[0mselect\u001b[0m \u001b[1;33m==\u001b[0m \u001b[1;36m1\u001b[0m\u001b[1;33m:\u001b[0m\u001b[1;33m\u001b[0m\u001b[1;33m\u001b[0m\u001b[0m\n\u001b[0;32m     11\u001b[0m             \u001b[0ms2\u001b[0m \u001b[1;33m=\u001b[0m \u001b[0mint\u001b[0m\u001b[1;33m(\u001b[0m\u001b[0minput\u001b[0m\u001b[1;33m(\u001b[0m\u001b[1;34m'행동을 선택하세요.\\n1. 울기\\t2. 몸통박치기\\n3. 십만볼트\\n'\u001b[0m\u001b[1;33m)\u001b[0m\u001b[1;33m)\u001b[0m\u001b[1;33m\u001b[0m\u001b[1;33m\u001b[0m\u001b[0m\n",
      "\u001b[1;31mValueError\u001b[0m: invalid literal for int() with base 10: ''"
     ]
    }
   ],
   "source": [
    "turn = 0\n",
    "p1_name = input('당신의 이름을 입력하세요')\n",
    "p2_name = input('적의 이름을 입력하세요')\n",
    "p1 = Pikachu(p1_name)\n",
    "p2 = Pikachu(p2_name)\n",
    "while True:\n",
    "    print(f'*********TURN{turn}')\n",
    "    if turn % 2 == 0:\n",
    "        select = int(input('행동을 선택하세요.\\n1. 공격\\t2. 도구\\n3. Poke\\t4. 도망\\n'))\n",
    "        if select == 1:\n",
    "            s2 = int(input('행동을 선택하세요.\\n1. 울기\\t2. 몸통박치기\\n3. 십만볼트\\n'))\n",
    "            if s2 == 1:\n",
    "                p1.bark(p2)\n",
    "            elif s2 == 2:\n",
    "                p1.body_attack(p2)\n",
    "            elif s2 == 3:\n",
    "                p1.t_volt(p2)\n",
    "        elif select == 4:\n",
    "            p1.run()\n",
    "        elif select == 2:\n",
    "            p1.tools()\n",
    "        elif select == 3:\n",
    "            p1.swop()\n",
    "            \n",
    "    else:\n",
    "        p2.body_attack(p1)\n",
    "    turn += 1\n",
    "    if p1.hp < 0:\n",
    "        print(f'{p1.name}은 기절했다!')\n",
    "        break\n",
    "    elif p2.hp < 0:\n",
    "        print(f'{p2.name}은 기절했다!')\n",
    "        print(f'{p1.name}은 {p2.level*15}만큼 경험치를 획득했다.')\n",
    "        if p1.exp > 99:\n",
    "            p1.exp -= 99\n",
    "            p1.level += 1\n",
    "            print(f'오잉? {p1.name}의 상태가?')\n",
    "            print(f'{p1.name}은 {p1.level}레벨이 되었다')\n",
    "        p1.hp = p1.maxhp\n",
    "        p2.hp = p2.maxhp\n",
    "        continue\n",
    "    "
   ]
  },
  {
   "cell_type": "markdown",
   "metadata": {},
   "source": [
    "# Workshop\n",
    "> 다음 조건에 맞는 Circle 클래스를 만들어 보세요.\n",
    "\n",
    "클래스 속성\n",
    "* `pi`: 3.14\n",
    "\n",
    "인스턴스 속성 (초기화 시 필요한 값들)\n",
    "* `r`: 원의 반지름 (필수 입력)\n",
    "* `x`: x좌표 (default 0)\n",
    "* `y`: y좌표 (default 0)\n",
    "\n",
    "인스턴스 메서드\n",
    "* `area()`: 원의 넓이를 반환\n",
    "* `circumference()`: 원의 둘레를 반환\n",
    "* `center()`: 원의 중심인 (x, y) 좌표를 튜플로 반환\n",
    "* `move(x, y)`: 원의 중심인 (x, y) 좌표를 입력받은 값으로 변경하고 변경된 좌표값을 튜플로 반환"
   ]
  },
  {
   "cell_type": "code",
   "execution_count": 27,
   "metadata": {},
   "outputs": [],
   "source": [
    "# 아래에 코드를 작성해주세요.\n",
    "class Circle:\n",
    "    \n",
    "    pi = 3.14\n",
    "    def __init__(self):\n",
    "        self.r = int(input())\n",
    "        self.x = int(input())\n",
    "        self.y = int(input())\n",
    "        \n",
    "    def area(self):\n",
    "        return self.pi*self.r*self.r\n",
    "    \n",
    "    def circumference(self):\n",
    "        return 2*self.pi*self.r\n",
    "    \n",
    "    def center(self):\n",
    "        return (self.x, self.y)\n",
    "    \n",
    "    def move(self, newx, newy):\n",
    "        self.x, self.y = newx, newy\n",
    "        return (self.x, self.y)\n",
    "    "
   ]
  },
  {
   "cell_type": "code",
   "execution_count": 33,
   "metadata": {},
   "outputs": [
    {
     "name": "stdout",
     "output_type": "stream",
     "text": [
      "3\n",
      "2\n",
      "4\n"
     ]
    }
   ],
   "source": [
    "hi = Circle()"
   ]
  },
  {
   "cell_type": "code",
   "execution_count": 34,
   "metadata": {},
   "outputs": [
    {
     "data": {
      "text/plain": [
       "28.259999999999998"
      ]
     },
     "execution_count": 34,
     "metadata": {},
     "output_type": "execute_result"
    }
   ],
   "source": [
    "hi.area()"
   ]
  },
  {
   "cell_type": "code",
   "execution_count": 35,
   "metadata": {},
   "outputs": [
    {
     "data": {
      "text/plain": [
       "18.84"
      ]
     },
     "execution_count": 35,
     "metadata": {},
     "output_type": "execute_result"
    }
   ],
   "source": [
    "hi.circumference()"
   ]
  },
  {
   "cell_type": "code",
   "execution_count": 31,
   "metadata": {},
   "outputs": [
    {
     "data": {
      "text/plain": [
       "(5, 5)"
      ]
     },
     "execution_count": 31,
     "metadata": {},
     "output_type": "execute_result"
    }
   ],
   "source": [
    "hi.center()"
   ]
  },
  {
   "cell_type": "code",
   "execution_count": 32,
   "metadata": {},
   "outputs": [
    {
     "data": {
      "text/plain": [
       "(6, 6)"
      ]
     },
     "execution_count": 32,
     "metadata": {},
     "output_type": "execute_result"
    }
   ],
   "source": [
    "hi.move(6, 6)"
   ]
  },
  {
   "cell_type": "code",
   "execution_count": null,
   "metadata": {},
   "outputs": [],
   "source": []
  }
 ],
 "metadata": {
  "kernelspec": {
   "display_name": "Python 3",
   "language": "python",
   "name": "python3"
  },
  "language_info": {
   "codemirror_mode": {
    "name": "ipython",
    "version": 3
   },
   "file_extension": ".py",
   "mimetype": "text/x-python",
   "name": "python",
   "nbconvert_exporter": "python",
   "pygments_lexer": "ipython3",
   "version": "3.7.3"
  },
  "latex_envs": {
   "LaTeX_envs_menu_present": true,
   "autoclose": false,
   "autocomplete": true,
   "bibliofile": "biblio.bib",
   "cite_by": "apalike",
   "current_citInitial": 1,
   "eqLabelWithNumbers": true,
   "eqNumInitial": 1,
   "hotkeys": {
    "equation": "Ctrl-E",
    "itemize": "Ctrl-I"
   },
   "labels_anchors": false,
   "latex_user_defs": false,
   "report_style_numbering": false,
   "user_envs_cfg": false
  },
  "toc": {
   "base_numbering": 1,
   "nav_menu": {},
   "number_sections": true,
   "sideBar": true,
   "skip_h1_title": false,
   "title_cell": "Table of Contents",
   "title_sidebar": "Contents",
   "toc_cell": false,
   "toc_position": {
    "height": "calc(100% - 180px)",
    "left": "10px",
    "top": "150px",
    "width": "206.8px"
   },
   "toc_section_display": true,
   "toc_window_display": false
  }
 },
 "nbformat": 4,
 "nbformat_minor": 2
}
