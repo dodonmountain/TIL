{
 "cells": [
  {
   "cell_type": "markdown",
   "metadata": {},
   "source": [
    "# 모든코인 상승장? 하락장?\n",
    "> 최고가와 최저가의 차이를 변동폭으로 정의할 때 (시가 + 변동폭)이 최고가 보다 높을 경우 \"상승장\", 그렇지 않은 경우 \"하락장\" 문자열을 출력하라.\n",
    "\n",
    "\n",
    "|Key Name|Description|\n",
    "|------|---|\n",
    "|opeing_price|최근 24시간 내 시작 거래금액|\n",
    "|closing_price|최근 24시간 내 마지막 거래금액|\n",
    "|min_price|최근 24시간 내 최저 거래금액|\n",
    "|max_price|최근 24시간 내 최고 거래금액|"
   ]
  },
  {
   "cell_type": "code",
   "execution_count": 4,
   "metadata": {},
   "outputs": [
    {
     "name": "stdout",
     "output_type": "stream",
     "text": [
      "{'BTC': {'opening_price': '12270000', 'closing_price': '12898000', 'min_price': '12110000', 'max_price': '13451000', 'average_price': '12761395.0578', 'units_traded': '12449.62457926', 'volume_1day': '12449.62457926', 'volume_7day': '90002.84789265', 'buy_price': '12888000', 'sell_price': '12898000', '24H_fluctate': '628000', '24H_fluctate_rate': '5.11'}, 'ETH': {'opening_price': '266600', 'closing_price': '274000', 'min_price': '262900', 'max_price': '284900', 'average_price': '275266.4827', 'units_traded': '112583.90172842', 'volume_1day': '112583.90172842', 'volume_7day': '610589.705887078849461332', 'buy_price': '273400', 'sell_price': '274000', '24H_fluctate': '7400', '24H_fluctate_rate': '2.77'}, 'DASH': {'opening_price': '153500', 'closing_price': '163400', 'min_price': '149100', 'max_price': '170000', 'average_price': '159789.6766', 'units_traded': '1040225.85586835', 'volume_1day': '1040225.85586835', 'volume_7day': '11266722.90049985', 'buy_price': '163300', 'sell_price': '163400', '24H_fluctate': '9900', '24H_fluctate_rate': '6.44'}, 'LTC': {'opening_price': '106200', 'closing_price': '107400', 'min_price': '103500', 'max_price': '112200', 'average_price': '108565.5197', 'units_traded': '21740.234398', 'volume_1day': '21740.234398', 'volume_7day': '175816.59769662', 'buy_price': '107300', 'sell_price': '107400', '24H_fluctate': '1200', '24H_fluctate_rate': '1.12'}, 'ETC': {'opening_price': '6580', 'closing_price': '6910', 'min_price': '6430', 'max_price': '7105', 'average_price': '6772.377', 'units_traded': '111047.42308467', 'volume_1day': '111047.42308467', 'volume_7day': '804130.248156791870193793', 'buy_price': '6900', 'sell_price': '6910', '24H_fluctate': '330', '24H_fluctate_rate': '5.01'}, 'XRP': {'opening_price': '375', 'closing_price': '376', 'min_price': '369', 'max_price': '391', 'average_price': '378.9944', 'units_traded': '85559879.25383732', 'volume_1day': '85559879.25383732', 'volume_7day': '649110466.19331539', 'buy_price': '375', 'sell_price': '376', '24H_fluctate': '1', '24H_fluctate_rate': '0.26'}, 'BCH': {'opening_price': '342100', 'closing_price': '372800', 'min_price': '338000', 'max_price': '393600', 'average_price': '368701.1327', 'units_traded': '38322.4702566', 'volume_1day': '38322.4702566', 'volume_7day': '215764.2077531', 'buy_price': '372900', 'sell_price': '374200', '24H_fluctate': '30700', '24H_fluctate_rate': '8.97'}, 'XMR': {'opening_price': '98000', 'closing_price': '101300', 'min_price': '90300', 'max_price': '107700', 'average_price': '97136.1292', 'units_traded': '3943657.84322706', 'volume_1day': '3943657.84322706', 'volume_7day': '17506172.048910047431', 'buy_price': '100700', 'sell_price': '101500', '24H_fluctate': '3300', '24H_fluctate_rate': '3.36'}, 'ZEC': {'opening_price': '103300', 'closing_price': '106400', 'min_price': '96200', 'max_price': '113300', 'average_price': '105141.351', 'units_traded': '2095.22364529', 'volume_1day': '2095.22364529', 'volume_7day': '15711.75840851', 'buy_price': '106000', 'sell_price': '106400', '24H_fluctate': '3100', '24H_fluctate_rate': '3.00'}, 'QTUM': {'opening_price': '3766', 'closing_price': '3914', 'min_price': '3691', 'max_price': '4152', 'average_price': '3929.9667', 'units_traded': '455804.08140091', 'volume_1day': '455804.08140091', 'volume_7day': '3662592.16320776', 'buy_price': '3915', 'sell_price': '3921', '24H_fluctate': '148', '24H_fluctate_rate': '3.92'}, 'BTG': {'opening_price': '28000', 'closing_price': '29150', 'min_price': '27800', 'max_price': '30800', 'average_price': '29525.305', 'units_traded': '22875.18170297', 'volume_1day': '22875.18170297', 'volume_7day': '240128.36575974', 'buy_price': '29170', 'sell_price': '29270', '24H_fluctate': '1150', '24H_fluctate_rate': '4.10'}, 'EOS': {'opening_price': '5120', 'closing_price': '5115', 'min_price': '4973', 'max_price': '5345', 'average_price': '5185.156', 'units_traded': '2147148.92873604', 'volume_1day': '2147148.92873604', 'volume_7day': '17628925.67139707', 'buy_price': '5115', 'sell_price': '5125', '24H_fluctate': '-5', '24H_fluctate_rate': '-0.09'}, 'ICX': {'opening_price': '339', 'closing_price': '341', 'min_price': '332', 'max_price': '357', 'average_price': '343.1201', 'units_traded': '372349.11308365', 'volume_1day': '372349.11308365', 'volume_7day': '3714817.41305403393693958', 'buy_price': '341', 'sell_price': '346', '24H_fluctate': '2', '24H_fluctate_rate': '0.58'}, 'VET': {'opening_price': '7.23', 'closing_price': '7.53', 'min_price': '7.19', 'max_price': '7.78', 'average_price': '7.4273', 'units_traded': '14275922.83097113', 'volume_1day': '14275922.83097113', 'volume_7day': '138100467.508215197939690796', 'buy_price': '7.51', 'sell_price': '7.6', '24H_fluctate': '0.3', '24H_fluctate_rate': '4.14'}, 'TRX': {'opening_price': '29.2', 'closing_price': '28.8', 'min_price': '28.4', 'max_price': '30.3', 'average_price': '29.3721', 'units_traded': '72223948.59616818', 'volume_1day': '72223948.59616818', 'volume_7day': '571726052.32302103', 'buy_price': '28.7', 'sell_price': '28.8', '24H_fluctate': '-0.4', '24H_fluctate_rate': '-1.36'}, 'ELF': {'opening_price': '157', 'closing_price': '165', 'min_price': '154', 'max_price': '170', 'average_price': '161.4948', 'units_traded': '1089895.22880696', 'volume_1day': '1089895.22880696', 'volume_7day': '10592604.264624397487223412', 'buy_price': '163', 'sell_price': '165', '24H_fluctate': '8', '24H_fluctate_rate': '5.09'}, 'MITH': {'opening_price': '47.8', 'closing_price': '48.1', 'min_price': '45.4', 'max_price': '49.4', 'average_price': '47.0548', 'units_traded': '3192484.60997159', 'volume_1day': '3192484.60997159', 'volume_7day': '15599479.569708808527223843', 'buy_price': '47.6', 'sell_price': '48.1', '24H_fluctate': '0.3', '24H_fluctate_rate': '0.62'}, 'MCO': {'opening_price': '6070', 'closing_price': '6105', 'min_price': '5790', 'max_price': '6300', 'average_price': '6058.7761', 'units_traded': '44030.41554906', 'volume_1day': '44030.41554906', 'volume_7day': '256235.30326217', 'buy_price': '6035', 'sell_price': '6100', '24H_fluctate': '35', '24H_fluctate_rate': '0.57'}, 'OMG': {'opening_price': '1842', 'closing_price': '1845', 'min_price': '1774', 'max_price': '1960', 'average_price': '1879.1152', 'units_traded': '545065.69886232', 'volume_1day': '545065.69886232', 'volume_7day': '3232636.919083838164636937', 'buy_price': '1846', 'sell_price': '1864', '24H_fluctate': '3', '24H_fluctate_rate': '0.16'}, 'KNC': {'opening_price': '217', 'closing_price': '227', 'min_price': '213', 'max_price': '247', 'average_price': '224.2995', 'units_traded': '603304.07595415', 'volume_1day': '603304.07595415', 'volume_7day': '5465619.01439698425300172', 'buy_price': '224', 'sell_price': '226', '24H_fluctate': '10', '24H_fluctate_rate': '4.60'}, 'GNT': {'opening_price': '73.8', 'closing_price': '75.8', 'min_price': '73.3', 'max_price': '80', 'average_price': '76.1292', 'units_traded': '509642.63444313', 'volume_1day': '509642.63444313', 'volume_7day': '5937652.545275536012054078', 'buy_price': '75.8', 'sell_price': '77.9', '24H_fluctate': '2', '24H_fluctate_rate': '2.71'}, 'ZIL': {'opening_price': '16.3', 'closing_price': '17.1', 'min_price': '16.3', 'max_price': '17.5', 'average_price': '16.9663', 'units_traded': '7229890.99435369', 'volume_1day': '7229890.99435369', 'volume_7day': '61776527.250081790174', 'buy_price': '17', 'sell_price': '17.1', '24H_fluctate': '0.8', '24H_fluctate_rate': '4.90'}, 'ETHOS': {'opening_price': '150', 'closing_price': '153', 'min_price': '144', 'max_price': '160', 'average_price': '152.2282', 'units_traded': '2838863.67858567', 'volume_1day': '2838863.67858567', 'volume_7day': '45223318.30223607', 'buy_price': '153', 'sell_price': '154', '24H_fluctate': '3', '24H_fluctate_rate': '2.00'}, 'PAY': {'opening_price': '263', 'closing_price': '276', 'min_price': '255', 'max_price': '290', 'average_price': '271.0409', 'units_traded': '215080.53693513', 'volume_1day': '215080.53693513', 'volume_7day': '3346408.22121745684417128', 'buy_price': '276', 'sell_price': '277', '24H_fluctate': '13', '24H_fluctate_rate': '4.94'}, 'WAX': {'opening_price': '63', 'closing_price': '66.2', 'min_price': '61.9', 'max_price': '70', 'average_price': '64.3618', 'units_traded': '1870865.10659123', 'volume_1day': '1870865.10659123', 'volume_7day': '17542664.34149504', 'buy_price': '65.6', 'sell_price': '66.2', '24H_fluctate': '3.2', '24H_fluctate_rate': '5.07'}, 'POWR': {'opening_price': '98.4', 'closing_price': '99.5', 'min_price': '92', 'max_price': '103', 'average_price': '97.9548', 'units_traded': '901491.11027166', 'volume_1day': '901491.11027166', 'volume_7day': '7567503.35504943', 'buy_price': '97.4', 'sell_price': '99.5', '24H_fluctate': '1.1', '24H_fluctate_rate': '1.11'}, 'LRC': {'opening_price': '71.2', 'closing_price': '71.2', 'min_price': '70.1', 'max_price': '80.8', 'average_price': '73.2002', 'units_traded': '581064.17988488', 'volume_1day': '581064.17988488', 'volume_7day': '5610021.087529428809595789', 'buy_price': '71.3', 'sell_price': '74.5', '24H_fluctate': '0', '24H_fluctate_rate': '0.00'}, 'GTO': {'opening_price': '27.3', 'closing_price': '27.7', 'min_price': '26.3', 'max_price': '29.5', 'average_price': '27.7067', 'units_traded': '2922210.57227256', 'volume_1day': '2922210.57227256', 'volume_7day': '27888346.41323324', 'buy_price': '27.6', 'sell_price': '27.7', '24H_fluctate': '0.4', '24H_fluctate_rate': '1.46'}, 'STEEM': {'opening_price': '389', 'closing_price': '392', 'min_price': '375', 'max_price': '412', 'average_price': '396.229', 'units_traded': '603890.16420702', 'volume_1day': '603890.16420702', 'volume_7day': '12069056.74096723', 'buy_price': '388', 'sell_price': '392', '24H_fluctate': '3', '24H_fluctate_rate': '0.77'}, 'STRAT': {'opening_price': '1377', 'closing_price': '1479', 'min_price': '1351', 'max_price': '1600', 'average_price': '1481.6345', 'units_traded': '254557.0571581', 'volume_1day': '254557.0571581', 'volume_7day': '1708174.34160385', 'buy_price': '1472', 'sell_price': '1480', '24H_fluctate': '102', '24H_fluctate_rate': '7.40'}, 'ZRX': {'opening_price': '261', 'closing_price': '303', 'min_price': '256', 'max_price': '328', 'average_price': '304.1947', 'units_traded': '1591059.56589439', 'volume_1day': '1591059.56589439', 'volume_7day': '4534754.471622466409196126', 'buy_price': '303', 'sell_price': '305', '24H_fluctate': '42', '24H_fluctate_rate': '16.09'}, 'REP': {'opening_price': '18200', 'closing_price': '19570', 'min_price': '18030', 'max_price': '24700', 'average_price': '20595.4488', 'units_traded': '61166.95625455', 'volume_1day': '61166.95625455', 'volume_7day': '186632.862267004532677142', 'buy_price': '19580', 'sell_price': '19690', '24H_fluctate': '1370', '24H_fluctate_rate': '7.52'}, 'AE': {'opening_price': '521', 'closing_price': '525', 'min_price': '505', 'max_price': '570', 'average_price': '533.5897', 'units_traded': '438613.21275147', 'volume_1day': '438613.21275147', 'volume_7day': '2528006.191261433528959624', 'buy_price': '522', 'sell_price': '525', '24H_fluctate': '4', '24H_fluctate_rate': '0.76'}, 'XEM': {'opening_price': '97.9', 'closing_price': '101', 'min_price': '92.7', 'max_price': '104', 'average_price': '98.5543', 'units_traded': '1093509.99266868', 'volume_1day': '1093509.99266868', 'volume_7day': '12199783.33032243', 'buy_price': '98', 'sell_price': '101', '24H_fluctate': '3.1', '24H_fluctate_rate': '3.16'}, 'SNT': {'opening_price': '24', 'closing_price': '24.9', 'min_price': '23.7', 'max_price': '26.1', 'average_price': '24.7877', 'units_traded': '4846972.1610606', 'volume_1day': '4846972.1610606', 'volume_7day': '52986411.83796821656894206', 'buy_price': '24.9', 'sell_price': '25.1', '24H_fluctate': '0.9', '24H_fluctate_rate': '3.75'}, 'ADA': {'opening_price': '92.8', 'closing_price': '96.9', 'min_price': '91.3', 'max_price': '103', 'average_price': '96.0472', 'units_traded': '6512777.0099137', 'volume_1day': '6512777.0099137', 'volume_7day': '63783938.8751128', 'buy_price': '96.1', 'sell_price': '96.7', '24H_fluctate': '4.1', '24H_fluctate_rate': '4.41'}, 'PPT': {'opening_price': '3391', 'closing_price': '3417', 'min_price': '3169', 'max_price': '3646', 'average_price': '3438.1562', 'units_traded': '128559.87162431', 'volume_1day': '128559.87162431', 'volume_7day': '1894594.7212553', 'buy_price': '3417', 'sell_price': '3453', '24H_fluctate': '26', '24H_fluctate_rate': '0.76'}, 'CTXC': {'opening_price': '483', 'closing_price': '493', 'min_price': '480', 'max_price': '514', 'average_price': '498.4464', 'units_traded': '388804.93252177', 'volume_1day': '388804.93252177', 'volume_7day': '8879336.594546649042605382', 'buy_price': '489', 'sell_price': '493', '24H_fluctate': '10', '24H_fluctate_rate': '2.07'}, 'CMT': {'opening_price': '62.6', 'closing_price': '63.9', 'min_price': '60.6', 'max_price': '67.7', 'average_price': '63.784', 'units_traded': '11589542.11175267', 'volume_1day': '11589542.11175267', 'volume_7day': '321663693.622124548568758734', 'buy_price': '63.8', 'sell_price': '63.9', '24H_fluctate': '1.3', '24H_fluctate_rate': '2.07'}, 'THETA': {'opening_price': '112', 'closing_price': '115', 'min_price': '110', 'max_price': '122', 'average_price': '114.7019', 'units_traded': '714819.27476316', 'volume_1day': '714819.27476316', 'volume_7day': '6043668.710096666985828777', 'buy_price': '113', 'sell_price': '115', '24H_fluctate': '3', '24H_fluctate_rate': '2.67'}, 'WTC': {'opening_price': '2569', 'closing_price': '2611', 'min_price': '2548', 'max_price': '3105', 'average_price': '2754.3325', 'units_traded': '230856.05851654', 'volume_1day': '230856.05851654', 'volume_7day': '5304718.173220448284851752', 'buy_price': '2615', 'sell_price': '2649', '24H_fluctate': '42', '24H_fluctate_rate': '1.63'}, 'ITC': {'opening_price': '347', 'closing_price': '343', 'min_price': '323', 'max_price': '375', 'average_price': '355.6331', 'units_traded': '1492943.05188889', 'volume_1day': '1492943.05188889', 'volume_7day': '22389445.097999064799285311', 'buy_price': '342', 'sell_price': '345', '24H_fluctate': '-4', '24H_fluctate_rate': '-1.15'}, 'TRUE': {'opening_price': '525', 'closing_price': '540', 'min_price': '515', 'max_price': '598', 'average_price': '553.4817', 'units_traded': '573960.49081174', 'volume_1day': '573960.49081174', 'volume_7day': '4526428.474098785681782811', 'buy_price': '539', 'sell_price': '540', '24H_fluctate': '15', '24H_fluctate_rate': '2.85'}, 'ABT': {'opening_price': '294', 'closing_price': '300', 'min_price': '284', 'max_price': '318', 'average_price': '301.5452', 'units_traded': '1573092.88581994', 'volume_1day': '1573092.88581994', 'volume_7day': '10457421.661381080946111547', 'buy_price': '298', 'sell_price': '300', '24H_fluctate': '6', '24H_fluctate_rate': '2.04'}, 'RNT': {'opening_price': '42.8', 'closing_price': '42.1', 'min_price': '40.5', 'max_price': '43.9', 'average_price': '41.7804', 'units_traded': '2178317.78833142', 'volume_1day': '2178317.78833142', 'volume_7day': '29868823.313498959215133828', 'buy_price': '41.8', 'sell_price': '42.1', '24H_fluctate': '-0.7', '24H_fluctate_rate': '-1.63'}, 'PLY': {'opening_price': '13.5', 'closing_price': '13.6', 'min_price': '13.1', 'max_price': '14.4', 'average_price': '13.7274', 'units_traded': '38973530.25955893', 'volume_1day': '38973530.25955893', 'volume_7day': '308892552.493790235', 'buy_price': '13.6', 'sell_price': '13.8', '24H_fluctate': '0.1', '24H_fluctate_rate': '0.74'}, 'WAVES': {'opening_price': '2139', 'closing_price': '2676', 'min_price': '2075', 'max_price': '3250', 'average_price': '2735.6408', 'units_traded': '810122.01884027', 'volume_1day': '810122.01884027', 'volume_7day': '1407174.05416476', 'buy_price': '2630', 'sell_price': '2675', '24H_fluctate': '537', '24H_fluctate_rate': '25.10'}, 'LINK': {'opening_price': '4578', 'closing_price': '4562', 'min_price': '4434', 'max_price': '4940', 'average_price': '4676.2983', 'units_traded': '357145.71383995', 'volume_1day': '357145.71383995', 'volume_7day': '5133129.714514809153537911', 'buy_price': '4562', 'sell_price': '4597', '24H_fluctate': '-16', '24H_fluctate_rate': '-0.34'}, 'ENJ': {'opening_price': '121', 'closing_price': '119', 'min_price': '115', 'max_price': '126', 'average_price': '120.1553', 'units_traded': '15869662.65508712', 'volume_1day': '15869662.65508712', 'volume_7day': '69340593.706997812374310654', 'buy_price': '118', 'sell_price': '119', '24H_fluctate': '-2', '24H_fluctate_rate': '-1.65'}, 'PST': {'opening_price': '132', 'closing_price': '148', 'min_price': '126', 'max_price': '157', 'average_price': '145.0703', 'units_traded': '5158602.48142081', 'volume_1day': '5158602.48142081', 'volume_7day': '21393943.696764452474168705', 'buy_price': '147', 'sell_price': '148', '24H_fluctate': '16', '24H_fluctate_rate': '12.12'}, 'SALT': {'opening_price': '209', 'closing_price': '211', 'min_price': '203', 'max_price': '228', 'average_price': '212.156', 'units_traded': '420098.25884619', 'volume_1day': '420098.25884619', 'volume_7day': '2723803.57035264', 'buy_price': '205', 'sell_price': '211', '24H_fluctate': '2', '24H_fluctate_rate': '0.95'}, 'RDN': {'opening_price': '937', 'closing_price': '1006', 'min_price': '861', 'max_price': '1116', 'average_price': '993.9623', 'units_traded': '353299.84651671', 'volume_1day': '353299.84651671', 'volume_7day': '1985078.380822857785250504', 'buy_price': '995', 'sell_price': '1004', '24H_fluctate': '69', '24H_fluctate_rate': '7.36'}, 'LOOM': {'opening_price': '82.5', 'closing_price': '88.6', 'min_price': '81.9', 'max_price': '91.5', 'average_price': '87.2111', 'units_traded': '475680.87968112', 'volume_1day': '475680.87968112', 'volume_7day': '4427647.153480573999395522', 'buy_price': '88.6', 'sell_price': '90.5', '24H_fluctate': '6.1', '24H_fluctate_rate': '7.39'}, 'PIVX': {'opening_price': '1778', 'closing_price': '1997', 'min_price': '1692', 'max_price': '2228', 'average_price': '1975.8466', 'units_traded': '77830.0912423', 'volume_1day': '77830.0912423', 'volume_7day': '678025.92376624', 'buy_price': '1931', 'sell_price': '1997', '24H_fluctate': '219', '24H_fluctate_rate': '12.31'}, 'INS': {'opening_price': '443', 'closing_price': '446', 'min_price': '426', 'max_price': '488', 'average_price': '455.3885', 'units_traded': '333363.02240741', 'volume_1day': '333363.02240741', 'volume_7day': '8542772.4102807144', 'buy_price': '445', 'sell_price': '446', '24H_fluctate': '3', '24H_fluctate_rate': '0.67'}, 'BCD': {'opening_price': '1890', 'closing_price': '2220', 'min_price': '1872', 'max_price': '2367', 'average_price': '2179.2845', 'units_traded': '830990.68662818', 'volume_1day': '830990.68662818', 'volume_7day': '1594255.99282278', 'buy_price': '2190', 'sell_price': '2220', '24H_fluctate': '330', '24H_fluctate_rate': '17.46'}, 'BZNT': {'opening_price': '22.5', 'closing_price': '22.6', 'min_price': '22', 'max_price': '23.4', 'average_price': '22.7523', 'units_traded': '4278953.29426213', 'volume_1day': '4278953.29426213', 'volume_7day': '88414336.078611064867138655', 'buy_price': '22.6', 'sell_price': '22.8', '24H_fluctate': '0.1', '24H_fluctate_rate': '0.44'}, 'XLM': {'opening_price': '112', 'closing_price': '113', 'min_price': '107', 'max_price': '117', 'average_price': '112.3355', 'units_traded': '2688510.79163372', 'volume_1day': '2688510.79163372', 'volume_7day': '23204333.76321197', 'buy_price': '112', 'sell_price': '114', '24H_fluctate': '1', '24H_fluctate_rate': '0.89'}, 'OCN': {'opening_price': '3.15', 'closing_price': '3.27', 'min_price': '3.09', 'max_price': '3.46', 'average_price': '3.2509', 'units_traded': '13040563.88647508', 'volume_1day': '13040563.88647508', 'volume_7day': '150471486.591734292031302212', 'buy_price': '3.27', 'sell_price': '3.28', '24H_fluctate': '0.12', '24H_fluctate_rate': '3.80'}, 'BSV': {'opening_price': '141200', 'closing_price': '154600', 'min_price': '138400', 'max_price': '163600', 'average_price': '150978.3314', 'units_traded': '76984.15042257', 'volume_1day': '76984.15042257', 'volume_7day': '297027.19538424', 'buy_price': '154100', 'sell_price': '154600', '24H_fluctate': '13400', '24H_fluctate_rate': '9.49'}, 'TMTG': {'opening_price': '2.15', 'closing_price': '2.19', 'min_price': '2.07', 'max_price': '2.27', 'average_price': '2.1827', 'units_traded': '48143681.73084638', 'volume_1day': '48143681.73084638', 'volume_7day': '283304937.835342867958841878', 'buy_price': '2.16', 'sell_price': '2.19', '24H_fluctate': '0.04', '24H_fluctate_rate': '1.86'}, 'BAT': {'opening_price': '282', 'closing_price': '282', 'min_price': '276', 'max_price': '305', 'average_price': '291.4758', 'units_traded': '570666.87572239', 'volume_1day': '570666.87572239', 'volume_7day': '8683750.730817355292766026', 'buy_price': '278', 'sell_price': '283', '24H_fluctate': '0', '24H_fluctate_rate': '0.00'}, 'WET': {'opening_price': '15.1', 'closing_price': '15', 'min_price': '14.8', 'max_price': '15.8', 'average_price': '15.27', 'units_traded': '11671328.04244334', 'volume_1day': '11671328.04244334', 'volume_7day': '132503912.331412025431120464', 'buy_price': '15', 'sell_price': '15.1', '24H_fluctate': '-0.1', '24H_fluctate_rate': '-0.66'}, 'XVG': {'opening_price': '14.9', 'closing_price': '15', 'min_price': '13.9', 'max_price': '15.7', 'average_price': '14.7085', 'units_traded': '1718658.81202629', 'volume_1day': '1718658.81202629', 'volume_7day': '21725142.38678206', 'buy_price': '14.7', 'sell_price': '15', '24H_fluctate': '0.1', '24H_fluctate_rate': '0.67'}, 'IOST': {'opening_price': '11.5', 'closing_price': '12.1', 'min_price': '11', 'max_price': '13', 'average_price': '11.9695', 'units_traded': '4374745.13162112', 'volume_1day': '4374745.13162112', 'volume_7day': '39880331.797591936210584287', 'buy_price': '11.9', 'sell_price': '12.1', '24H_fluctate': '0.6', '24H_fluctate_rate': '5.21'}, 'POLY': {'opening_price': '64.2', 'closing_price': '71.1', 'min_price': '62.1', 'max_price': '88', 'average_price': '75.2962', 'units_traded': '16956859.89016957', 'volume_1day': '16956859.89016957', 'volume_7day': '40392614.84739352174938958', 'buy_price': '70.6', 'sell_price': '71.1', '24H_fluctate': '6.9', '24H_fluctate_rate': '10.74'}, 'HC': {'opening_price': '3957', 'closing_price': '4059', 'min_price': '3835', 'max_price': '4500', 'average_price': '4183.522', 'units_traded': '316222.7775668', 'volume_1day': '316222.7775668', 'volume_7day': '4509909.35918372', 'buy_price': '4051', 'sell_price': '4059', '24H_fluctate': '102', '24H_fluctate_rate': '2.57'}, 'ROM': {'opening_price': '0.05', 'closing_price': '0.05', 'min_price': '0.04', 'max_price': '0.05', 'average_price': '0.0447', 'units_traded': '1192858968.64948', 'volume_1day': '1192858968.64948', 'volume_7day': '19388130956.612640000000000003', 'buy_price': '0.04', 'sell_price': '0.05', '24H_fluctate': '0', '24H_fluctate_rate': '0.00'}, 'AMO': {'opening_price': '0.65', 'closing_price': '0.64', 'min_price': '0.61', 'max_price': '0.66', 'average_price': '0.6409', 'units_traded': '327093612.77887477', 'volume_1day': '327093612.77887477', 'volume_7day': '3305617842.482424469475093072', 'buy_price': '0.63', 'sell_price': '0.64', '24H_fluctate': '-0.01', '24H_fluctate_rate': '-1.53'}, 'ETZ': {'opening_price': '289', 'closing_price': '297', 'min_price': '286', 'max_price': '318', 'average_price': '302.8525', 'units_traded': '1225282.5577824', 'volume_1day': '1225282.5577824', 'volume_7day': '18466682.651887551552491321', 'buy_price': '297', 'sell_price': '299', '24H_fluctate': '8', '24H_fluctate_rate': '2.76'}, 'ARN': {'opening_price': '524', 'closing_price': '536', 'min_price': '516', 'max_price': '586', 'average_price': '546.1745', 'units_traded': '285220.40802498', 'volume_1day': '285220.40802498', 'volume_7day': '1681584.9049294', 'buy_price': '529', 'sell_price': '536', '24H_fluctate': '12', '24H_fluctate_rate': '2.29'}, 'APIS': {'opening_price': '1.66', 'closing_price': '1.8', 'min_price': '1.66', 'max_price': '1.9', 'average_price': '1.7342', 'units_traded': '65126807.84179579', 'volume_1day': '65126807.84179579', 'volume_7day': '300755658.896510022513315604', 'buy_price': '1.75', 'sell_price': '1.79', '24H_fluctate': '0.14', '24H_fluctate_rate': '8.43'}, 'MTL': {'opening_price': '1954', 'closing_price': '2090', 'min_price': '1877', 'max_price': '2313', 'average_price': '2070.9794', 'units_traded': '138507.06332698', 'volume_1day': '138507.06332698', 'volume_7day': '638040.09100034', 'buy_price': '2092', 'sell_price': '2108', '24H_fluctate': '136', '24H_fluctate_rate': '6.96'}, 'DACC': {'opening_price': '0.16', 'closing_price': '0.17', 'min_price': '0.15', 'max_price': '0.17', 'average_price': '0.1647', 'units_traded': '403089352.24839411', 'volume_1day': '403089352.24839411', 'volume_7day': '2766889854.52124614', 'buy_price': '0.16', 'sell_price': '0.17', '24H_fluctate': '0.01', '24H_fluctate_rate': '6.25'}, 'DAC': {'opening_price': '5.7', 'closing_price': '5.61', 'min_price': '5.53', 'max_price': '6.04', 'average_price': '5.7978', 'units_traded': '25677941.84780895', 'volume_1day': '25677941.84780895', 'volume_7day': '815960101.689098645147710247', 'buy_price': '5.63', 'sell_price': '5.69', '24H_fluctate': '-0.09', '24H_fluctate_rate': '-1.57'}, 'BHP': {'opening_price': '1734', 'closing_price': '1740', 'min_price': '1680', 'max_price': '1871', 'average_price': '1766.0594', 'units_traded': '708297.75468545', 'volume_1day': '708297.75468545', 'volume_7day': '1456472.02053679', 'buy_price': '1738', 'sell_price': '1740', '24H_fluctate': '6', '24H_fluctate_rate': '0.34'}, 'BTT': {'opening_price': '1.34', 'closing_price': '1.37', 'min_price': '1.21', 'max_price': '1.53', 'average_price': '1.3616', 'units_traded': '362519376.87640319', 'volume_1day': '362519376.87640319', 'volume_7day': '1521571836.38589899', 'buy_price': '1.36', 'sell_price': '1.37', '24H_fluctate': '0.03', '24H_fluctate_rate': '2.23'}, 'HDAC': {'opening_price': '30.5', 'closing_price': '30.2', 'min_price': '28.8', 'max_price': '32.5', 'average_price': '30.5916', 'units_traded': '2876303.9598944', 'volume_1day': '2876303.9598944', 'volume_7day': '34721684.23004786', 'buy_price': '30.3', 'sell_price': '30.7', '24H_fluctate': '-0.3', '24H_fluctate_rate': '-0.98'}, 'NPXS': {'opening_price': '0.74', 'closing_price': '0.77', 'min_price': '0.71', 'max_price': '0.82', 'average_price': '0.775', 'units_traded': '530202915.4406872', 'volume_1day': '530202915.4406872', 'volume_7day': '3212915068.192432208350640193', 'buy_price': '0.76', 'sell_price': '0.77', '24H_fluctate': '0.03', '24H_fluctate_rate': '4.05'}, 'AUTO': {'opening_price': '1.66', 'closing_price': '1.63', 'min_price': '1.62', 'max_price': '1.73', 'average_price': '1.6686', 'units_traded': '27156140.32465438', 'volume_1day': '27156140.32465438', 'volume_7day': '314263817.308813603262875436', 'buy_price': '1.63', 'sell_price': '1.67', '24H_fluctate': '-0.03', '24H_fluctate_rate': '-1.80'}, 'GXC': {'opening_price': '1833', 'closing_price': '1959', 'min_price': '1761', 'max_price': '2055', 'average_price': '1918.9609', 'units_traded': '135264.15523304', 'volume_1day': '135264.15523304', 'volume_7day': '1669696.95963179', 'buy_price': '1901', 'sell_price': '1959', '24H_fluctate': '126', '24H_fluctate_rate': '6.87'}, 'ORBS': {'opening_price': '29.7', 'closing_price': '29.6', 'min_price': '28.6', 'max_price': '31', 'average_price': '29.7349', 'units_traded': '14329843.02417003', 'volume_1day': '14329843.02417003', 'volume_7day': '127336873.810361028319004324', 'buy_price': '29.5', 'sell_price': '29.6', '24H_fluctate': '-0.09', '24H_fluctate_rate': '-0.33'}, 'VALOR': {'opening_price': '2445', 'closing_price': '2562', 'min_price': '2403', 'max_price': '2696', 'average_price': '2558.098', 'units_traded': '104380.62444095', 'volume_1day': '104380.62444095', 'volume_7day': '1144979.578867059660038435', 'buy_price': '2520', 'sell_price': '2549', '24H_fluctate': '117', '24H_fluctate_rate': '4.78'}, 'CON': {'opening_price': '13.8', 'closing_price': '14.1', 'min_price': '13.7', 'max_price': '14.5', 'average_price': '14.0621', 'units_traded': '142203116.61831457', 'volume_1day': '142203116.61831457', 'volume_7day': '1188620142.098098126919498287', 'buy_price': '14', 'sell_price': '14.1', '24H_fluctate': '0.3', '24H_fluctate_rate': '2.17'}, 'ANKR': {'opening_price': '10.5', 'closing_price': '10.7', 'min_price': '10.1', 'max_price': '11', 'average_price': '10.5453', 'units_traded': '92769257.18100425', 'volume_1day': '92769257.18100425', 'volume_7day': '683916743.537400687930143084', 'buy_price': '10.6', 'sell_price': '10.8', '24H_fluctate': '0.2', '24H_fluctate_rate': '1.90'}, 'MIX': {'opening_price': '67.3', 'closing_price': '66.6', 'min_price': '64.3', 'max_price': '69.6', 'average_price': '67.1719', 'units_traded': '2813600.91355097', 'volume_1day': '2813600.91355097', 'volume_7day': '40539489.010999805620073668', 'buy_price': '66.7', 'sell_price': '67', '24H_fluctate': '-0.7', '24H_fluctate_rate': '-1.04'}, 'HYC': {'opening_price': '9.88', 'closing_price': '9.91', 'min_price': '9.73', 'max_price': '10.4', 'average_price': '10.0079', 'units_traded': '61483749.19100955', 'volume_1day': '61483749.19100955', 'volume_7day': '1413869520.371760941', 'buy_price': '9.91', 'sell_price': '9.92', '24H_fluctate': '0.02', '24H_fluctate_rate': '0.30'}, 'LBA': {'opening_price': '31', 'closing_price': '30.2', 'min_price': '30.2', 'max_price': '32.3', 'average_price': '31.1657', 'units_traded': '9095348.87089058', 'volume_1day': '9095348.87089058', 'volume_7day': '96667635.33813059765145354', 'buy_price': '30.1', 'sell_price': '30.2', '24H_fluctate': '-0.8', '24H_fluctate_rate': '-2.58'}, 'date': '1563251809756'}\n"
     ]
    }
   ],
   "source": [
    "import requests\n",
    "url = \"https://api.bithumb.com/public/ticker/all\"\n",
    "data = requests.get(url).json()['data']\n",
    "print(data)"
   ]
  },
  {
   "cell_type": "code",
   "execution_count": 8,
   "metadata": {},
   "outputs": [
    {
     "data": {
      "text/plain": [
       "'13451000'"
      ]
     },
     "execution_count": 8,
     "metadata": {},
     "output_type": "execute_result"
    }
   ],
   "source": [
    "# data.keys()"
   ]
  },
  {
   "cell_type": "code",
   "execution_count": 78,
   "metadata": {},
   "outputs": [
    {
     "name": "stdout",
     "output_type": "stream",
     "text": [
      "BTC, 상승장\n",
      "ETH, 상승장\n",
      "DASH, 상승장\n",
      "LTC, 상승장\n",
      "ETC, 상승장\n",
      "XRP, 상승장\n",
      "BCH, 상승장\n",
      "XMR, 상승장\n",
      "ZEC, 상승장\n",
      "QTUM, 상승장\n",
      "BTG, 상승장\n",
      "EOS, 상승장\n",
      "ICX, 상승장\n",
      "VET, 상승장\n",
      "TRX, 상승장\n",
      "ELF, 상승장\n",
      "MITH, 상승장\n",
      "MCO, 상승장\n",
      "OMG, 상승장\n",
      "KNC, 상승장\n",
      "GNT, 상승장\n",
      "ZIL, 하락장\n",
      "ETHOS, 상승장\n",
      "PAY, 상승장\n",
      "WAX, 상승장\n",
      "POWR, 상승장\n",
      "LRC, 상승장\n",
      "GTO, 상승장\n",
      "STEEM, 상승장\n",
      "STRAT, 상승장\n",
      "ZRX, 상승장\n",
      "REP, 상승장\n",
      "AE, 상승장\n",
      "XEM, 상승장\n",
      "SNT, 상승장\n",
      "ADA, 상승장\n",
      "PPT, 상승장\n",
      "CTXC, 상승장\n",
      "CMT, 상승장\n",
      "THETA, 상승장\n",
      "WTC, 상승장\n",
      "ITC, 상승장\n",
      "TRUE, 상승장\n",
      "ABT, 상승장\n",
      "RNT, 상승장\n",
      "PLY, 상승장\n",
      "WAVES, 상승장\n",
      "LINK, 상승장\n",
      "ENJ, 상승장\n",
      "PST, 상승장\n",
      "SALT, 상승장\n",
      "RDN, 상승장\n",
      "LOOM, 상승장\n",
      "PIVX, 상승장\n",
      "INS, 상승장\n",
      "BCD, 상승장\n",
      "BZNT, 상승장\n",
      "XLM, 상승장\n",
      "OCN, 상승장\n",
      "BSV, 상승장\n",
      "TMTG, 상승장\n",
      "BAT, 상승장\n",
      "WET, 상승장\n",
      "XVG, 상승장\n",
      "IOST, 상승장\n",
      "POLY, 상승장\n",
      "HC, 상승장\n",
      "ROM, 상승장\n",
      "AMO, 상승장\n",
      "ETZ, 상승장\n",
      "ARN, 상승장\n",
      "APIS, 하락장\n",
      "MTL, 상승장\n",
      "DACC, 상승장\n",
      "DAC, 상승장\n",
      "BHP, 상승장\n",
      "BTT, 상승장\n",
      "HDAC, 상승장\n",
      "NPXS, 상승장\n",
      "AUTO, 상승장\n",
      "GXC, 상승장\n",
      "ORBS, 상승장\n",
      "VALOR, 상승장\n",
      "CON, 상승장\n",
      "ANKR, 상승장\n",
      "MIX, 상승장\n",
      "HYC, 상승장\n",
      "LBA, 상승장\n"
     ]
    }
   ],
   "source": [
    "for coins in data:\n",
    "    try:\n",
    "        diff = float(data[coins]['max_price']) - float(data[coins]['min_price'])\n",
    "        if float(data[coins]['opening_price']) + diff > float(data[coins]['max_price']):\n",
    "            print('{}, 상승장'.format(coins))\n",
    "        else:\n",
    "            print('{}, 하락장'.format(coins))\n",
    "    except:\n",
    "        break"
   ]
  },
  {
   "cell_type": "markdown",
   "metadata": {},
   "source": [
    "# 평균점수\n",
    "> 다음 딕셔너리에서 평균 점수를 출력하라\n"
   ]
  },
  {
   "cell_type": "code",
   "execution_count": 11,
   "metadata": {},
   "outputs": [],
   "source": [
    "student = {'python':80, 'algorithm':78, 'django':95, 'flask':80}"
   ]
  },
  {
   "cell_type": "code",
   "execution_count": 99,
   "metadata": {},
   "outputs": [
    {
     "name": "stdout",
     "output_type": "stream",
     "text": [
      "평균 점수: 83.25\n"
     ]
    }
   ],
   "source": [
    "print('평균 점수:',sum(list(student.values()))/len(list(student.values())))"
   ]
  },
  {
   "cell_type": "markdown",
   "metadata": {},
   "source": [
    "# 혈액형\n",
    "> 학생들의 혈액형(A,B,O,AB)에 대한 데이터가 리스트에 들어있다. 각 혈액형이 몇명인지 딕셔너리를 만들어 출력하라"
   ]
  },
  {
   "cell_type": "code",
   "execution_count": 18,
   "metadata": {},
   "outputs": [],
   "source": [
    "blood = ['A','A','B','O','A','B','A','AB','AB','O','A','O','AB','O']"
   ]
  },
  {
   "cell_type": "code",
   "execution_count": 100,
   "metadata": {},
   "outputs": [
    {
     "name": "stdout",
     "output_type": "stream",
     "text": [
      "{'A': 5, 'B': 2, 'O': 4, 'AB': 3}\n"
     ]
    }
   ],
   "source": [
    "counter, index = [], ['A','B','O','AB']\n",
    "for i in index:\n",
    "    counter.append(blood.count(i))\n",
    "print(dict(zip(index, counter)))"
   ]
  },
  {
   "cell_type": "code",
   "execution_count": 102,
   "metadata": {},
   "outputs": [
    {
     "name": "stdout",
     "output_type": "stream",
     "text": [
      "{'A': 5, 'B': 2, 'O': 4, 'AB': 3}\n"
     ]
    }
   ],
   "source": [
    "blood_dict = {}\n",
    "for blood_type in blood:\n",
    "    if blood_type not in blood_dict.keys():\n",
    "        blood_dict[blood_type] = 1\n",
    "    else:\n",
    "        blood_dict[blood_type] += 1\n",
    "print(blood_dict)"
   ]
  },
  {
   "cell_type": "code",
   "execution_count": 103,
   "metadata": {},
   "outputs": [
    {
     "data": {
      "text/plain": [
       "{'A': 5, 'B': 2, 'AB': 3, 'O': 4}"
      ]
     },
     "execution_count": 103,
     "metadata": {},
     "output_type": "execute_result"
    }
   ],
   "source": [
    "{blood_type: blood.count(blood_type) for blood_type in set(blood)}"
   ]
  },
  {
   "cell_type": "markdown",
   "metadata": {},
   "source": [
    "\n",
    "# UBD\n",
    "> movies는 영화제목이 key로 누적관객수가 value인 딕셔너리이다. \n",
    ">\n",
    "> 자전차왕 엄복동의 누적관객수는 172212명이고 172212명을 1UBD라고 할때 80UBD를 넘지 못하는 영화를 출력하라."
   ]
  },
  {
   "cell_type": "code",
   "execution_count": 91,
   "metadata": {},
   "outputs": [],
   "source": [
    "movies = {\n",
    "    \"자전차왕 엄복동\": 172212,\n",
    "    \"7번방의선물\":12811206,\n",
    "    \"괴물\":13019740,\n",
    "    \"국제시장\":14257115,\n",
    "    \"극한직업\":16261018,\n",
    "    \"도둑들\":12983330,\n",
    "    \"명량\":17613682,\n",
    "    \"베테랑\":13414009,\n",
    "    \"신과함께-죄와벌\":14410754,\n",
    "    \"아바타\":13624328,\n",
    "    \"어벤져스:엔드게임\":13901423,\n",
    "}"
   ]
  },
  {
   "cell_type": "code",
   "execution_count": 97,
   "metadata": {
    "scrolled": true
   },
   "outputs": [
    {
     "name": "stdout",
     "output_type": "stream",
     "text": [
      "80UBD 미만 영화======================================================================\n",
      "\n",
      "자전차왕 엄복동 1 UBD\n",
      "7번방의선물 74 UBD\n",
      "괴물 75 UBD\n",
      "도둑들 75 UBD\n",
      "베테랑 77 UBD\n",
      "아바타 79 UBD\n",
      "\n",
      "80UBD 이상 영화======================================================================\n",
      "\n",
      "국제시장 82 UBD\n",
      "극한직업 94 UBD\n",
      "명량 102 UBD\n",
      "신과함께-죄와벌 83 UBD\n",
      "어벤져스:엔드게임 80 UBD\n",
      "\n",
      "술 한잔 마셨습니다... 영화가 잘 안되도 좋습니다. 하지만 엄복동 하나만 기억해주세요\n",
      "진심을 다해 전합니다. 영화가 별로 일수있습니다 밤낮으로 고민하고 연기 했습니다 ...\n",
      "최선을 다했고 열심히 했습니다 저의 진심이 느껴지길 바랍니다 고맙습니다...\n"
     ]
    }
   ],
   "source": [
    "UBD = 172212\n",
    "print('80UBD 미만 영화======================================================================\\n')\n",
    "for i in movies:\n",
    "    if movies[i] < 80*UBD:\n",
    "        print(i, movies[i]//UBD, 'UBD')\n",
    "print('\\n80UBD 이상 영화======================================================================\\n')\n",
    "for j in movies:\n",
    "    if movies[j] >= 80*UBD:\n",
    "        print(j, movies[j]//UBD, 'UBD')\n",
    "        \n",
    "print('\\n술 한잔 마셨습니다... 영화가 잘 안되도 좋습니다. 하지만 엄복동 하나만 기억해주세요\\n\\\n",
    "진심을 다해 전합니다. 영화가 별로 일수있습니다 밤낮으로 고민하고 연기 했습니다 ...\\n\\\n",
    "최선을 다했고 열심히 했습니다 저의 진심이 느껴지길 바랍니다 고맙습니다...')"
   ]
  },
  {
   "cell_type": "code",
   "execution_count": 130,
   "metadata": {},
   "outputs": [
    {
     "name": "stdout",
     "output_type": "stream",
     "text": [
      "{'A': 3, 'B': 3, 'O': 3, 'AB': 3}\n"
     ]
    }
   ],
   "source": [
    "blood_types = ['A', 'B', 'A','O','AB','AB','O','A','B','O','B','AB']\n",
    "\n",
    "ma_dict = {}\n",
    "for i in blood_types:\n",
    "    if i not in ma_dict:\n",
    "        ma_dict[i] = 1\n",
    "    else:\n",
    "        ma_dict[i] += 1\n",
    "print(ma_dict)"
   ]
  },
  {
   "cell_type": "code",
   "execution_count": null,
   "metadata": {},
   "outputs": [],
   "source": []
  },
  {
   "cell_type": "code",
   "execution_count": 133,
   "metadata": {},
   "outputs": [
    {
     "ename": "TypeError",
     "evalue": "'str' object does not support item assignment",
     "output_type": "error",
     "traceback": [
      "\u001b[1;31m---------------------------------------------------------------------------\u001b[0m",
      "\u001b[1;31mTypeError\u001b[0m                                 Traceback (most recent call last)",
      "\u001b[1;32m<ipython-input-133-41dcea8b5250>\u001b[0m in \u001b[0;36m<module>\u001b[1;34m\u001b[0m\n\u001b[0;32m      1\u001b[0m \u001b[0ma\u001b[0m \u001b[1;33m=\u001b[0m \u001b[1;34m'123'\u001b[0m\u001b[1;33m\u001b[0m\u001b[1;33m\u001b[0m\u001b[0m\n\u001b[0;32m      2\u001b[0m \u001b[0mlist\u001b[0m\u001b[1;33m(\u001b[0m\u001b[0ma\u001b[0m\u001b[1;33m)\u001b[0m\u001b[1;33m\u001b[0m\u001b[1;33m\u001b[0m\u001b[0m\n\u001b[1;32m----> 3\u001b[1;33m \u001b[0ma\u001b[0m\u001b[1;33m[\u001b[0m\u001b[1;36m0\u001b[0m\u001b[1;33m]\u001b[0m \u001b[1;33m=\u001b[0m \u001b[1;36m1\u001b[0m\u001b[1;33m\u001b[0m\u001b[1;33m\u001b[0m\u001b[0m\n\u001b[0m\u001b[0;32m      4\u001b[0m \u001b[0mprint\u001b[0m\u001b[1;33m(\u001b[0m\u001b[0ma\u001b[0m\u001b[1;33m)\u001b[0m\u001b[1;33m\u001b[0m\u001b[1;33m\u001b[0m\u001b[0m\n",
      "\u001b[1;31mTypeError\u001b[0m: 'str' object does not support item assignment"
     ]
    }
   ],
   "source": [
    "a = '123'\n",
    "a[0] = \n",
    "print(a)\n"
   ]
  },
  {
   "cell_type": "code",
   "execution_count": null,
   "metadata": {},
   "outputs": [],
   "source": []
  }
 ],
 "metadata": {
  "kernelspec": {
   "display_name": "Python 3",
   "language": "python",
   "name": "python3"
  },
  "language_info": {
   "codemirror_mode": {
    "name": "ipython",
    "version": 3
   },
   "file_extension": ".py",
   "mimetype": "text/x-python",
   "name": "python",
   "nbconvert_exporter": "python",
   "pygments_lexer": "ipython3",
   "version": "3.7.3"
  },
  "toc": {
   "base_numbering": 1,
   "nav_menu": {},
   "number_sections": true,
   "sideBar": true,
   "skip_h1_title": false,
   "title_cell": "Table of Contents",
   "title_sidebar": "Contents",
   "toc_cell": false,
   "toc_position": {
    "height": "calc(100% - 180px)",
    "left": "10px",
    "top": "150px",
    "width": "185.797px"
   },
   "toc_section_display": true,
   "toc_window_display": true
  }
 },
 "nbformat": 4,
 "nbformat_minor": 2
}
