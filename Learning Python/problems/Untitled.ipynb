{
 "cells": [
  {
   "cell_type": "code",
   "execution_count": 46,
   "metadata": {},
   "outputs": [
    {
     "name": "stdout",
     "output_type": "stream",
     "text": [
      "33\n",
      "1 2 - 4 5 - 7 8 - 10 11 12 - 14 15 - 17 18 - 20 21 22 - 24 25 - 27 28 - - - - -- "
     ]
    }
   ],
   "source": [
    "def Rock(num):\n",
    "    count = 0\n",
    "    stnum = list(str(num))\n",
    "    for i in range(len(stnum)):\n",
    "        if stnum[i] == '3':\n",
    "            count += 1\n",
    "        elif stnum[i] == '6':\n",
    "            count += 1\n",
    "        elif stnum[i] == '9':\n",
    "            count += 1\n",
    "    return '-'*count if count > 0 else num \n",
    "# Last_num = input()\n",
    "Last_num = int(input())\n",
    "# 리스트를 만들자\n",
    "myLst = list(range(1,Last_num+1))\n",
    "for i in myLst:\n",
    "    print(Rock(i), end = ' ')"
   ]
  },
  {
   "cell_type": "code",
   "execution_count": 41,
   "metadata": {},
   "outputs": [
    {
     "data": {
      "text/plain": [
       "'--'"
      ]
     },
     "execution_count": 41,
     "metadata": {},
     "output_type": "execute_result"
    }
   ],
   "source": [
    "Rock(16621241)"
   ]
  },
  {
   "cell_type": "code",
   "execution_count": 36,
   "metadata": {},
   "outputs": [
    {
     "name": "stdout",
     "output_type": "stream",
     "text": [
      "True\n"
     ]
    }
   ],
   "source": [
    "a = 'sdagasughaosg'\n",
    "print(list(a)[0] is 's')"
   ]
  },
  {
   "cell_type": "code",
   "execution_count": 47,
   "metadata": {},
   "outputs": [
    {
     "name": "stdout",
     "output_type": "stream",
     "text": [
      "Hello world!\n"
     ]
    }
   ],
   "source": [
    "import __hello__"
   ]
  },
  {
   "cell_type": "code",
   "execution_count": null,
   "metadata": {},
   "outputs": [
    {
     "name": "stdout",
     "output_type": "stream",
     "text": [
      "1\n",
      "2 8\n",
      "10\n",
      "#1 256\n"
     ]
    }
   ],
   "source": [
    "def multt(a, b):\n",
    "    if b < 2:\n",
    "        return a\n",
    "    else:\n",
    "        b -= 1\n",
    "        return a * multt(a,b)\n",
    "    \n",
    "for i in range(11):\n",
    "    t_case = int(input())\n",
    "    a,b = input().split()\n",
    "    a = int(a)\n",
    "    b = int(b)\n",
    "    print(a+b)\n",
    "    result = multt(a,b)\n",
    "    print(f'#{t_case} {result}')"
   ]
  },
  {
   "cell_type": "code",
   "execution_count": 17,
   "metadata": {},
   "outputs": [
    {
     "data": {
      "text/plain": [
       "256"
      ]
     },
     "execution_count": 17,
     "metadata": {},
     "output_type": "execute_result"
    }
   ],
   "source": [
    "multt(2,8)"
   ]
  },
  {
   "cell_type": "code",
   "execution_count": 7,
   "metadata": {},
   "outputs": [],
   "source": [
    "import datetime\n",
    "targetDt = '20190713'\n",
    "proc_date = datetime.datetime.strptime(targetDt, '%Y%m%d')"
   ]
  },
  {
   "cell_type": "code",
   "execution_count": 22,
   "metadata": {},
   "outputs": [
    {
     "name": "stdout",
     "output_type": "stream",
     "text": [
      "2019-07-13 00:00:00\n",
      "2019-07-06 00:00:00\n"
     ]
    }
   ],
   "source": [
    "print(proc_date)\n",
    "print(proc_date-datetime.timedelta(days=7))\n"
   ]
  },
  {
   "cell_type": "code",
   "execution_count": 31,
   "metadata": {},
   "outputs": [
    {
     "data": {
      "text/plain": [
       "dict_keys(['boxofficeType', 'showRange', 'yearWeekTime', 'weeklyBoxOfficeList'])"
      ]
     },
     "execution_count": 31,
     "metadata": {},
     "output_type": "execute_result"
    }
   ],
   "source": [
    "import requests\n",
    "from bs4 import BeautifulSoup\n",
    "import pprint\n",
    "import datetime\n",
    "\n",
    "\n",
    "key = '02c6707f48b277cd966372b42e63b44b'\n",
    "targetDt = '20190713'\n",
    "base_url = f'http://www.kobis.or.kr/kobisopenapi/webservice/rest/boxoffice/searchWeeklyBoxOfficeList.json?key={key}&targetDt={targetDt}&weekGb=0'\n",
    "response = requests.get(base_url).json()\n",
    "# pprint.pprint(response)\n",
    "response['boxOfficeResult'].keys()"
   ]
  },
  {
   "cell_type": "code",
   "execution_count": 39,
   "metadata": {},
   "outputs": [
    {
     "data": {
      "text/plain": [
       "{'rnum': '1',\n",
       " 'rank': '1',\n",
       " 'rankInten': '0',\n",
       " 'rankOldAndNew': 'OLD',\n",
       " 'movieCd': '20196309',\n",
       " 'movieNm': '스파이더맨: 파 프롬 홈',\n",
       " 'openDt': '2019-07-02',\n",
       " 'salesAmt': '18704596230',\n",
       " 'salesShare': '50.6',\n",
       " 'salesInten': '-20291784280',\n",
       " 'salesChange': '-52.0',\n",
       " 'salesAcc': '57709536740',\n",
       " 'audiCnt': '2163534',\n",
       " 'audiInten': '-2357236',\n",
       " 'audiChange': '-52.1',\n",
       " 'audiAcc': '6685160',\n",
       " 'scrnCnt': '1900',\n",
       " 'showCnt': '61772'}"
      ]
     },
     "execution_count": 39,
     "metadata": {},
     "output_type": "execute_result"
    }
   ],
   "source": [
    "import requests\n",
    "from bs4 import BeautifulSoup\n",
    "import pprint\n",
    "import datetime\n",
    "\n",
    "\n",
    "key = '02c6707f48b277cd966372b42e63b44b'\n",
    "targetDt = '20190713'\n",
    "base_url = f'http://www.kobis.or.kr/kobisopenapi/webservice/rest/boxoffice/searchWeeklyBoxOfficeList.json?key={key}&targetDt={targetDt}&weekGb=0'\n",
    "response = requests.get(base_url).json()\n",
    "# pprint.pprint(response)\n",
    "response['boxOfficeResult']['weeklyBoxOfficeList'][0]"
   ]
  },
  {
   "cell_type": "code",
   "execution_count": 49,
   "metadata": {},
   "outputs": [],
   "source": [
    "import requests\n",
    "from bs4 import BeautifulSoup\n",
    "import pprint\n",
    "import datetime\n",
    "import csv\n",
    "\n",
    "\n",
    "key = '02c6707f48b277cd966372b42e63b44b'\n",
    "targetDt = '20190713'\n",
    "base_url = f'http://www.kobis.or.kr/kobisopenapi/webservice/rest/boxoffice/searchWeeklyBoxOfficeList.json?key={key}&targetDt={targetDt}&weekGb=0'\n",
    "response = requests.get(base_url).json()\n",
    "# pprint.pprint(response)\n",
    "\n",
    "for i in range(10):\n",
    "    with open('tst.csv','w',encoding='utf-8') as f:\n",
    "        fieldnames = ['movieCd', 'movieNm', 'audiAcc', 'scrnCnt', 'audiChange', 'salesInten', 'rankInten', 'salesAcc', 'openDt', 'salesShare', 'rnum', 'salesChange', 'showCnt', 'rankOldAndNew', 'audiCnt', 'audiInten', 'rank', 'salesAmt']\n",
    "        csv_writer = csv.DictWriter(f, fieldnames = fieldnames)\n",
    "        csv_writer.writeheader()\n",
    "        csv_writer.writerow(response['boxOfficeResult']['weeklyBoxOfficeList'][i])"
   ]
  },
  {
   "cell_type": "code",
   "execution_count": null,
   "metadata": {},
   "outputs": [],
   "source": []
  }
 ],
 "metadata": {
  "kernelspec": {
   "display_name": "Python 3",
   "language": "python",
   "name": "python3"
  },
  "language_info": {
   "codemirror_mode": {
    "name": "ipython",
    "version": 3
   },
   "file_extension": ".py",
   "mimetype": "text/x-python",
   "name": "python",
   "nbconvert_exporter": "python",
   "pygments_lexer": "ipython3",
   "version": "3.7.3"
  },
  "toc": {
   "base_numbering": 1,
   "nav_menu": {},
   "number_sections": true,
   "sideBar": true,
   "skip_h1_title": false,
   "title_cell": "Table of Contents",
   "title_sidebar": "Contents",
   "toc_cell": false,
   "toc_position": {},
   "toc_section_display": true,
   "toc_window_display": true
  }
 },
 "nbformat": 4,
 "nbformat_minor": 2
}
