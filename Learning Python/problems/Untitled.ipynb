{
 "cells": [
  {
   "cell_type": "code",
   "execution_count": 46,
   "metadata": {},
   "outputs": [
    {
     "name": "stdout",
     "output_type": "stream",
     "text": [
      "33\n",
      "1 2 - 4 5 - 7 8 - 10 11 12 - 14 15 - 17 18 - 20 21 22 - 24 25 - 27 28 - - - - -- "
     ]
    }
   ],
   "source": [
    "def Rock(num):\n",
    "    count = 0\n",
    "    stnum = list(str(num))\n",
    "    for i in range(len(stnum)):\n",
    "        if stnum[i] == '3':\n",
    "            count += 1\n",
    "        elif stnum[i] == '6':\n",
    "            count += 1\n",
    "        elif stnum[i] == '9':\n",
    "            count += 1\n",
    "    return '-'*count if count > 0 else num \n",
    "# Last_num = input()\n",
    "Last_num = int(input())\n",
    "# 리스트를 만들자\n",
    "myLst = list(range(1,Last_num+1))\n",
    "for i in myLst:\n",
    "    print(Rock(i), end = ' ')"
   ]
  },
  {
   "cell_type": "code",
   "execution_count": 41,
   "metadata": {},
   "outputs": [
    {
     "data": {
      "text/plain": [
       "'--'"
      ]
     },
     "execution_count": 41,
     "metadata": {},
     "output_type": "execute_result"
    }
   ],
   "source": [
    "Rock(16621241)"
   ]
  },
  {
   "cell_type": "code",
   "execution_count": 36,
   "metadata": {},
   "outputs": [
    {
     "name": "stdout",
     "output_type": "stream",
     "text": [
      "True\n"
     ]
    }
   ],
   "source": [
    "a = 'sdagasughaosg'\n",
    "print(list(a)[0] is 's')"
   ]
  },
  {
   "cell_type": "code",
   "execution_count": 47,
   "metadata": {},
   "outputs": [
    {
     "name": "stdout",
     "output_type": "stream",
     "text": [
      "Hello world!\n"
     ]
    }
   ],
   "source": [
    "import __hello__"
   ]
  },
  {
   "cell_type": "code",
   "execution_count": null,
   "metadata": {},
   "outputs": [
    {
     "name": "stdout",
     "output_type": "stream",
     "text": [
      "1\n",
      "2 8\n",
      "10\n",
      "#1 256\n"
     ]
    }
   ],
   "source": [
    "def multt(a, b):\n",
    "    if b < 2:\n",
    "        return a\n",
    "    else:\n",
    "        b -= 1\n",
    "        return a * multt(a,b)\n",
    "    \n",
    "for i in range(11):\n",
    "    t_case = int(input())\n",
    "    a,b = input().split()\n",
    "    a = int(a)\n",
    "    b = int(b)\n",
    "    print(a+b)\n",
    "    result = multt(a,b)\n",
    "    print(f'#{t_case} {result}')"
   ]
  },
  {
   "cell_type": "code",
   "execution_count": 17,
   "metadata": {},
   "outputs": [
    {
     "data": {
      "text/plain": [
       "256"
      ]
     },
     "execution_count": 17,
     "metadata": {},
     "output_type": "execute_result"
    }
   ],
   "source": [
    "multt(2,8)"
   ]
  },
  {
   "cell_type": "code",
   "execution_count": null,
   "metadata": {},
   "outputs": [],
   "source": []
  }
 ],
 "metadata": {
  "kernelspec": {
   "display_name": "Python 3",
   "language": "python",
   "name": "python3"
  },
  "toc": {
   "base_numbering": 1,
   "nav_menu": {},
   "number_sections": true,
   "sideBar": true,
   "skip_h1_title": false,
   "title_cell": "Table of Contents",
   "title_sidebar": "Contents",
   "toc_cell": false,
   "toc_position": {},
   "toc_section_display": true,
   "toc_window_display": true
  }
 },
 "nbformat": 4,
 "nbformat_minor": 2
}
